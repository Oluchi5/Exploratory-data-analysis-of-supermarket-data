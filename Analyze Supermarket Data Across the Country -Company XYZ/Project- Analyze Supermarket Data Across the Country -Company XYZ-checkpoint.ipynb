{
 "cells": [
  {
   "cell_type": "markdown",
   "id": "28fb12f1",
   "metadata": {},
   "source": [
    "# Analyze Supermarket Data Across the Country - Company XYZ"
   ]
  },
  {
   "cell_type": "markdown",
   "id": "89f08bcb",
   "metadata": {},
   "source": [
    "### Company XYZ owns a supermarket chain across the country. Each major branch located in 3 cities across the country recorded sales information for 3 months, to help the company understand sales trends and determine its growth, as the rise of supermarkets competition is seen to increase.The data folder contains datasets from three different branches; Lagos, Abuja and Port Harcourt. Each data file from the branches contains the same attribute information and see below the attribute description.  "
   ]
  },
  {
   "cell_type": "markdown",
   "id": "161afa38",
   "metadata": {},
   "source": [
    "# Step 1 - Loading Datasets"
   ]
  },
  {
   "cell_type": "markdown",
   "id": "fe011c92",
   "metadata": {},
   "source": [
    "IMPORT -ESSENCIAL LIBRARIES AND-.CSV FILES"
   ]
  },
  {
   "cell_type": "code",
   "execution_count": 2,
   "id": "ab2092e3",
   "metadata": {},
   "outputs": [],
   "source": [
    "import glob\n",
    "import pandas as pd\n",
    "import numpy as np"
   ]
  },
  {
   "cell_type": "markdown",
   "id": "00c93260",
   "metadata": {},
   "source": [
    "## Correct use of pathname pattern - glob"
   ]
  },
  {
   "cell_type": "code",
   "execution_count": 2,
   "id": "d26af046",
   "metadata": {},
   "outputs": [
    {
     "name": "stdout",
     "output_type": "stream",
     "text": [
      "Named explicitly:\n",
      "C:\\Users\\OLUCHI ANENE\\Downloads\\DATA SCIENCE\\COMP.CSV\\Abuja_Branch.csv\n",
      "C:\\Users\\OLUCHI ANENE\\Downloads\\DATA SCIENCE\\COMP.CSV\\Lagos_Branch.csv\n",
      "C:\\Users\\OLUCHI ANENE\\Downloads\\DATA SCIENCE\\COMP.CSV\\Port_Harcourt_Branch.csv\n"
     ]
    }
   ],
   "source": [
    "print('Named explicitly:')\n",
    "for name in glob.glob(r'C:\\Users\\OLUCHI ANENE\\Downloads\\DATA SCIENCE\\COMP.CSV\\*.csv'):\n",
    "    print(name)"
   ]
  },
  {
   "cell_type": "markdown",
   "id": "75a28268",
   "metadata": {},
   "source": [
    "## Combine all the files generated in a list and export to a CSV.\n"
   ]
  },
  {
   "cell_type": "code",
   "execution_count": 3,
   "id": "71b506eb",
   "metadata": {},
   "outputs": [
    {
     "name": "stdout",
     "output_type": "stream",
     "text": [
      "      Invoice ID Branch           City Customer type  Gender  \\\n",
      "0    692-92-5582      B          Abuja        Member  Female   \n",
      "1    351-62-0822      B          Abuja        Member  Female   \n",
      "2    529-56-3974      B          Abuja        Member    Male   \n",
      "3    299-46-1805      B          Abuja        Member  Female   \n",
      "4    319-50-3348      B          Abuja        Normal  Female   \n",
      "..           ...    ...            ...           ...     ...   \n",
      "995  148-41-7930      C  Port Harcourt        Normal    Male   \n",
      "996  189-40-5216      C  Port Harcourt        Normal    Male   \n",
      "997  267-62-7380      C  Port Harcourt        Member    Male   \n",
      "998  652-49-6720      C  Port Harcourt        Member  Female   \n",
      "999  233-67-5758      C  Port Harcourt        Normal    Male   \n",
      "\n",
      "               Product line  Unit price  Quantity    Tax 5%      Total  \\\n",
      "0        Food and beverages     19742.4         3   2961.36   62188.56   \n",
      "1       Fashion accessories      5212.8         4   1042.56   21893.76   \n",
      "2    Electronic accessories      9183.6         4   1836.72   38571.12   \n",
      "3         Sports and travel     33739.2         6  10121.76  212556.96   \n",
      "4        Home and lifestyle     14508.0         2   1450.80   30466.80   \n",
      "..                      ...         ...       ...       ...        ...   \n",
      "995       Health and beauty     35985.6         7  12594.96  264494.16   \n",
      "996  Electronic accessories     34693.2         7  12142.62  254995.02   \n",
      "997  Electronic accessories     29642.4        10  14821.20  311245.20   \n",
      "998  Electronic accessories     21942.0         1   1097.10   23039.10   \n",
      "999       Health and beauty     14526.0         1    726.30   15252.30   \n",
      "\n",
      "          Date   Time Payment      cogs  gross margin percentage  \\\n",
      "0    2/20/2019  13:27    Card   59227.2                 4.761905   \n",
      "1     2/6/2019  18:07    Epay   20851.2                 4.761905   \n",
      "2     3/9/2019  17:03    Cash   36734.4                 4.761905   \n",
      "3    1/15/2019  16:19    Cash  202435.2                 4.761905   \n",
      "4    3/11/2019  15:30    Epay   29016.0                 4.761905   \n",
      "..         ...    ...     ...       ...                      ...   \n",
      "995  1/23/2019  10:33    Cash  251899.2                 4.761905   \n",
      "996   1/9/2019  11:40    Cash  242852.4                 4.761905   \n",
      "997  3/29/2019  19:12    Epay  296424.0                 4.761905   \n",
      "998  2/18/2019  11:40    Epay   21942.0                 4.761905   \n",
      "999  1/29/2019  13:46    Epay   14526.0                 4.761905   \n",
      "\n",
      "     gross income  Rating  \n",
      "0         2961.36     5.9  \n",
      "1         1042.56     4.5  \n",
      "2         1836.72     6.8  \n",
      "3        10121.76     4.5  \n",
      "4         1450.80     4.4  \n",
      "..            ...     ...  \n",
      "995      12594.96     6.1  \n",
      "996      12142.62     6.0  \n",
      "997      14821.20     4.3  \n",
      "998       1097.10     5.9  \n",
      "999        726.30     6.2  \n",
      "\n",
      "[1000 rows x 17 columns]\n"
     ]
    }
   ],
   "source": [
    "# merging all csv files\n",
    "Com = pd.concat(\n",
    "    map(pd.read_csv, [r'C:\\Users\\OLUCHI ANENE\\Downloads\\DATA SCIENCE\\COMP.CSV\\Abuja_Branch.csv', r'C:\\Users\\OLUCHI ANENE\\Downloads\\DATA SCIENCE\\COMP.CSV\\Lagos_Branch.csv', r'C:\\Users\\OLUCHI ANENE\\Downloads\\DATA SCIENCE\\COMP.CSV\\Port_Harcourt_Branch.csv']), ignore_index=True)\n",
    "print(Com)"
   ]
  },
  {
   "cell_type": "markdown",
   "id": "22643bbd",
   "metadata": {},
   "source": [
    "# Step 2 - Data Exploration"
   ]
  },
  {
   "cell_type": "markdown",
   "id": "4c86b581",
   "metadata": {},
   "source": [
    " Use the head() method to view first few rows of the dataset"
   ]
  },
  {
   "cell_type": "code",
   "execution_count": 4,
   "id": "b5888826",
   "metadata": {},
   "outputs": [
    {
     "data": {
      "text/html": [
       "<div>\n",
       "<style scoped>\n",
       "    .dataframe tbody tr th:only-of-type {\n",
       "        vertical-align: middle;\n",
       "    }\n",
       "\n",
       "    .dataframe tbody tr th {\n",
       "        vertical-align: top;\n",
       "    }\n",
       "\n",
       "    .dataframe thead th {\n",
       "        text-align: right;\n",
       "    }\n",
       "</style>\n",
       "<table border=\"1\" class=\"dataframe\">\n",
       "  <thead>\n",
       "    <tr style=\"text-align: right;\">\n",
       "      <th></th>\n",
       "      <th>Invoice ID</th>\n",
       "      <th>Branch</th>\n",
       "      <th>City</th>\n",
       "      <th>Customer type</th>\n",
       "      <th>Gender</th>\n",
       "      <th>Product line</th>\n",
       "      <th>Unit price</th>\n",
       "      <th>Quantity</th>\n",
       "      <th>Tax 5%</th>\n",
       "      <th>Total</th>\n",
       "      <th>Date</th>\n",
       "      <th>Time</th>\n",
       "      <th>Payment</th>\n",
       "      <th>cogs</th>\n",
       "      <th>gross margin percentage</th>\n",
       "      <th>gross income</th>\n",
       "      <th>Rating</th>\n",
       "    </tr>\n",
       "  </thead>\n",
       "  <tbody>\n",
       "    <tr>\n",
       "      <th>0</th>\n",
       "      <td>692-92-5582</td>\n",
       "      <td>B</td>\n",
       "      <td>Abuja</td>\n",
       "      <td>Member</td>\n",
       "      <td>Female</td>\n",
       "      <td>Food and beverages</td>\n",
       "      <td>19742.4</td>\n",
       "      <td>3</td>\n",
       "      <td>2961.36</td>\n",
       "      <td>62188.56</td>\n",
       "      <td>2/20/2019</td>\n",
       "      <td>13:27</td>\n",
       "      <td>Card</td>\n",
       "      <td>59227.2</td>\n",
       "      <td>4.761905</td>\n",
       "      <td>2961.36</td>\n",
       "      <td>5.9</td>\n",
       "    </tr>\n",
       "    <tr>\n",
       "      <th>1</th>\n",
       "      <td>351-62-0822</td>\n",
       "      <td>B</td>\n",
       "      <td>Abuja</td>\n",
       "      <td>Member</td>\n",
       "      <td>Female</td>\n",
       "      <td>Fashion accessories</td>\n",
       "      <td>5212.8</td>\n",
       "      <td>4</td>\n",
       "      <td>1042.56</td>\n",
       "      <td>21893.76</td>\n",
       "      <td>2/6/2019</td>\n",
       "      <td>18:07</td>\n",
       "      <td>Epay</td>\n",
       "      <td>20851.2</td>\n",
       "      <td>4.761905</td>\n",
       "      <td>1042.56</td>\n",
       "      <td>4.5</td>\n",
       "    </tr>\n",
       "    <tr>\n",
       "      <th>2</th>\n",
       "      <td>529-56-3974</td>\n",
       "      <td>B</td>\n",
       "      <td>Abuja</td>\n",
       "      <td>Member</td>\n",
       "      <td>Male</td>\n",
       "      <td>Electronic accessories</td>\n",
       "      <td>9183.6</td>\n",
       "      <td>4</td>\n",
       "      <td>1836.72</td>\n",
       "      <td>38571.12</td>\n",
       "      <td>3/9/2019</td>\n",
       "      <td>17:03</td>\n",
       "      <td>Cash</td>\n",
       "      <td>36734.4</td>\n",
       "      <td>4.761905</td>\n",
       "      <td>1836.72</td>\n",
       "      <td>6.8</td>\n",
       "    </tr>\n",
       "    <tr>\n",
       "      <th>3</th>\n",
       "      <td>299-46-1805</td>\n",
       "      <td>B</td>\n",
       "      <td>Abuja</td>\n",
       "      <td>Member</td>\n",
       "      <td>Female</td>\n",
       "      <td>Sports and travel</td>\n",
       "      <td>33739.2</td>\n",
       "      <td>6</td>\n",
       "      <td>10121.76</td>\n",
       "      <td>212556.96</td>\n",
       "      <td>1/15/2019</td>\n",
       "      <td>16:19</td>\n",
       "      <td>Cash</td>\n",
       "      <td>202435.2</td>\n",
       "      <td>4.761905</td>\n",
       "      <td>10121.76</td>\n",
       "      <td>4.5</td>\n",
       "    </tr>\n",
       "    <tr>\n",
       "      <th>4</th>\n",
       "      <td>319-50-3348</td>\n",
       "      <td>B</td>\n",
       "      <td>Abuja</td>\n",
       "      <td>Normal</td>\n",
       "      <td>Female</td>\n",
       "      <td>Home and lifestyle</td>\n",
       "      <td>14508.0</td>\n",
       "      <td>2</td>\n",
       "      <td>1450.80</td>\n",
       "      <td>30466.80</td>\n",
       "      <td>3/11/2019</td>\n",
       "      <td>15:30</td>\n",
       "      <td>Epay</td>\n",
       "      <td>29016.0</td>\n",
       "      <td>4.761905</td>\n",
       "      <td>1450.80</td>\n",
       "      <td>4.4</td>\n",
       "    </tr>\n",
       "  </tbody>\n",
       "</table>\n",
       "</div>"
      ],
      "text/plain": [
       "    Invoice ID Branch   City Customer type  Gender            Product line  \\\n",
       "0  692-92-5582      B  Abuja        Member  Female      Food and beverages   \n",
       "1  351-62-0822      B  Abuja        Member  Female     Fashion accessories   \n",
       "2  529-56-3974      B  Abuja        Member    Male  Electronic accessories   \n",
       "3  299-46-1805      B  Abuja        Member  Female       Sports and travel   \n",
       "4  319-50-3348      B  Abuja        Normal  Female      Home and lifestyle   \n",
       "\n",
       "   Unit price  Quantity    Tax 5%      Total       Date   Time Payment  \\\n",
       "0     19742.4         3   2961.36   62188.56  2/20/2019  13:27    Card   \n",
       "1      5212.8         4   1042.56   21893.76   2/6/2019  18:07    Epay   \n",
       "2      9183.6         4   1836.72   38571.12   3/9/2019  17:03    Cash   \n",
       "3     33739.2         6  10121.76  212556.96  1/15/2019  16:19    Cash   \n",
       "4     14508.0         2   1450.80   30466.80  3/11/2019  15:30    Epay   \n",
       "\n",
       "       cogs  gross margin percentage  gross income  Rating  \n",
       "0   59227.2                 4.761905       2961.36     5.9  \n",
       "1   20851.2                 4.761905       1042.56     4.5  \n",
       "2   36734.4                 4.761905       1836.72     6.8  \n",
       "3  202435.2                 4.761905      10121.76     4.5  \n",
       "4   29016.0                 4.761905       1450.80     4.4  "
      ]
     },
     "execution_count": 4,
     "metadata": {},
     "output_type": "execute_result"
    }
   ],
   "source": [
    "Com.head()"
   ]
  },
  {
   "cell_type": "markdown",
   "id": "09783105",
   "metadata": {},
   "source": [
    "## Check the number of rows and columns present in the data using the shape attribute."
   ]
  },
  {
   "cell_type": "code",
   "execution_count": 5,
   "id": "5e02d8f9",
   "metadata": {},
   "outputs": [
    {
     "name": "stdout",
     "output_type": "stream",
     "text": [
      "Com.Shape: (1000, 17)\n"
     ]
    }
   ],
   "source": [
    "#using the print statement to add statement to the result''\n",
    "shape = Com.shape\n",
    "print('Com.Shape:', shape)"
   ]
  },
  {
   "cell_type": "code",
   "execution_count": 6,
   "id": "cd4a4c14",
   "metadata": {},
   "outputs": [
    {
     "name": "stdout",
     "output_type": "stream",
     "text": [
      "Number of columns 17\n"
     ]
    }
   ],
   "source": [
    "#futher confirmation for columns using length function\n",
    "print('Number of columns', len(Com.columns))"
   ]
  },
  {
   "cell_type": "code",
   "execution_count": 7,
   "id": "0a56f3c8",
   "metadata": {},
   "outputs": [
    {
     "name": "stdout",
     "output_type": "stream",
     "text": [
      "Number of rows 1000\n"
     ]
    }
   ],
   "source": [
    "#futher confirmation for rows using length function\n",
    "print('Number of rows', len(Com.index))"
   ]
  },
  {
   "cell_type": "markdown",
   "id": "1e13b5a5",
   "metadata": {},
   "source": [
    "## Generate the names of the columns using the columns attribute."
   ]
  },
  {
   "cell_type": "code",
   "execution_count": 8,
   "id": "dfb022f3",
   "metadata": {},
   "outputs": [
    {
     "name": "stdout",
     "output_type": "stream",
     "text": [
      "Invoice ID\n",
      "Branch\n",
      "City\n",
      "Customer type\n",
      "Gender\n",
      "Product line\n",
      "Unit price\n",
      "Quantity\n",
      "Tax 5%\n",
      "Total\n",
      "Date\n",
      "Time\n",
      "Payment\n",
      "cogs\n",
      "gross margin percentage\n",
      "gross income\n",
      "Rating\n"
     ]
    }
   ],
   "source": [
    "#using the for loop in python method to generate the Names of each columns for better output viz\n",
    "for col in Com.columns:\n",
    "    print(col)"
   ]
  },
  {
   "cell_type": "markdown",
   "id": "bf3719d5",
   "metadata": {},
   "source": [
    "## Use describe function to generate the statistical summary of the dataframe"
   ]
  },
  {
   "cell_type": "code",
   "execution_count": 9,
   "id": "95ada9cd",
   "metadata": {},
   "outputs": [
    {
     "data": {
      "text/html": [
       "<div>\n",
       "<style scoped>\n",
       "    .dataframe tbody tr th:only-of-type {\n",
       "        vertical-align: middle;\n",
       "    }\n",
       "\n",
       "    .dataframe tbody tr th {\n",
       "        vertical-align: top;\n",
       "    }\n",
       "\n",
       "    .dataframe thead th {\n",
       "        text-align: right;\n",
       "    }\n",
       "</style>\n",
       "<table border=\"1\" class=\"dataframe\">\n",
       "  <thead>\n",
       "    <tr style=\"text-align: right;\">\n",
       "      <th></th>\n",
       "      <th>Unit price</th>\n",
       "      <th>Quantity</th>\n",
       "      <th>Tax 5%</th>\n",
       "      <th>Total</th>\n",
       "      <th>cogs</th>\n",
       "      <th>gross margin percentage</th>\n",
       "      <th>gross income</th>\n",
       "      <th>Rating</th>\n",
       "    </tr>\n",
       "  </thead>\n",
       "  <tbody>\n",
       "    <tr>\n",
       "      <th>count</th>\n",
       "      <td>1000.000000</td>\n",
       "      <td>1000.000000</td>\n",
       "      <td>1000.000000</td>\n",
       "      <td>1000.000000</td>\n",
       "      <td>1000.000000</td>\n",
       "      <td>1.000000e+03</td>\n",
       "      <td>1000.000000</td>\n",
       "      <td>1000.00000</td>\n",
       "    </tr>\n",
       "    <tr>\n",
       "      <th>mean</th>\n",
       "      <td>20041.966800</td>\n",
       "      <td>5.510000</td>\n",
       "      <td>5536.572840</td>\n",
       "      <td>116268.029640</td>\n",
       "      <td>110731.456800</td>\n",
       "      <td>4.761905e+00</td>\n",
       "      <td>5536.572840</td>\n",
       "      <td>6.97270</td>\n",
       "    </tr>\n",
       "    <tr>\n",
       "      <th>std</th>\n",
       "      <td>9538.066205</td>\n",
       "      <td>2.923431</td>\n",
       "      <td>4215.177173</td>\n",
       "      <td>88518.720636</td>\n",
       "      <td>84303.543463</td>\n",
       "      <td>6.131498e-14</td>\n",
       "      <td>4215.177173</td>\n",
       "      <td>1.71858</td>\n",
       "    </tr>\n",
       "    <tr>\n",
       "      <th>min</th>\n",
       "      <td>3628.800000</td>\n",
       "      <td>1.000000</td>\n",
       "      <td>183.060000</td>\n",
       "      <td>3844.260000</td>\n",
       "      <td>3661.200000</td>\n",
       "      <td>4.761905e+00</td>\n",
       "      <td>183.060000</td>\n",
       "      <td>4.00000</td>\n",
       "    </tr>\n",
       "    <tr>\n",
       "      <th>25%</th>\n",
       "      <td>11835.000000</td>\n",
       "      <td>3.000000</td>\n",
       "      <td>2132.955000</td>\n",
       "      <td>44792.055000</td>\n",
       "      <td>42659.100000</td>\n",
       "      <td>4.761905e+00</td>\n",
       "      <td>2132.955000</td>\n",
       "      <td>5.50000</td>\n",
       "    </tr>\n",
       "    <tr>\n",
       "      <th>50%</th>\n",
       "      <td>19882.800000</td>\n",
       "      <td>5.000000</td>\n",
       "      <td>4351.680000</td>\n",
       "      <td>91385.280000</td>\n",
       "      <td>87033.600000</td>\n",
       "      <td>4.761905e+00</td>\n",
       "      <td>4351.680000</td>\n",
       "      <td>7.00000</td>\n",
       "    </tr>\n",
       "    <tr>\n",
       "      <th>75%</th>\n",
       "      <td>28056.600000</td>\n",
       "      <td>8.000000</td>\n",
       "      <td>8080.290000</td>\n",
       "      <td>169686.090000</td>\n",
       "      <td>161605.800000</td>\n",
       "      <td>4.761905e+00</td>\n",
       "      <td>8080.290000</td>\n",
       "      <td>8.50000</td>\n",
       "    </tr>\n",
       "    <tr>\n",
       "      <th>max</th>\n",
       "      <td>35985.600000</td>\n",
       "      <td>10.000000</td>\n",
       "      <td>17874.000000</td>\n",
       "      <td>375354.000000</td>\n",
       "      <td>357480.000000</td>\n",
       "      <td>4.761905e+00</td>\n",
       "      <td>17874.000000</td>\n",
       "      <td>10.00000</td>\n",
       "    </tr>\n",
       "  </tbody>\n",
       "</table>\n",
       "</div>"
      ],
      "text/plain": [
       "         Unit price     Quantity        Tax 5%          Total           cogs  \\\n",
       "count   1000.000000  1000.000000   1000.000000    1000.000000    1000.000000   \n",
       "mean   20041.966800     5.510000   5536.572840  116268.029640  110731.456800   \n",
       "std     9538.066205     2.923431   4215.177173   88518.720636   84303.543463   \n",
       "min     3628.800000     1.000000    183.060000    3844.260000    3661.200000   \n",
       "25%    11835.000000     3.000000   2132.955000   44792.055000   42659.100000   \n",
       "50%    19882.800000     5.000000   4351.680000   91385.280000   87033.600000   \n",
       "75%    28056.600000     8.000000   8080.290000  169686.090000  161605.800000   \n",
       "max    35985.600000    10.000000  17874.000000  375354.000000  357480.000000   \n",
       "\n",
       "       gross margin percentage  gross income      Rating  \n",
       "count             1.000000e+03   1000.000000  1000.00000  \n",
       "mean              4.761905e+00   5536.572840     6.97270  \n",
       "std               6.131498e-14   4215.177173     1.71858  \n",
       "min               4.761905e+00    183.060000     4.00000  \n",
       "25%               4.761905e+00   2132.955000     5.50000  \n",
       "50%               4.761905e+00   4351.680000     7.00000  \n",
       "75%               4.761905e+00   8080.290000     8.50000  \n",
       "max               4.761905e+00  17874.000000    10.00000  "
      ]
     },
     "execution_count": 9,
     "metadata": {},
     "output_type": "execute_result"
    }
   ],
   "source": [
    "#This function gives the stat. summary of every colunm on a dataset\n",
    "Com.describe()"
   ]
  },
  {
   "cell_type": "markdown",
   "id": "1528cbad",
   "metadata": {},
   "source": [
    "## Use meaningful sentences to describe findings from the data statistical summary"
   ]
  },
  {
   "cell_type": "markdown",
   "id": "cf213b82",
   "metadata": {},
   "source": [
    "1. The statistics of this dataset show the count, mean, standard deviation, minimun values, 25%, 50% and 75% percentile, and the maximum vales of each columns with numeric values respectively.\n",
    "\n",
    "2. The count of every numeric value is equal to the number of rows present in the data set, this is correct.\n",
    "\n",
    "3. The mean of the Unit price is 20,041.966800, prices are well utilized.\n",
    "\n",
    "4. The 25%(percentile) of the Tax 5% is 2132.955000 and the Max is 17874 with these rates the Branches will not fall behind of tax payments.\n",
    "\n",
    "5. The Max Total of sales by all the Branches is 375,354, this shows that sales was great.\n",
    "\n",
    "6. The Max Gross income is 17,874. more profit maximization is required.\n",
    "\n",
    "7. The Min in Quantity sold is 1 this shows the least value of quanity of goods sold.\n",
    "\n",
    "8. The Mean in Rating is 6.97270 which shows that the Branch services are above average."
   ]
  },
  {
   "cell_type": "markdown",
   "id": "8e68eacf",
   "metadata": {},
   "source": [
    "## Use of correct method to check for Missing values"
   ]
  },
  {
   "cell_type": "code",
   "execution_count": 10,
   "id": "2fdecbf6",
   "metadata": {},
   "outputs": [
    {
     "data": {
      "text/html": [
       "<div>\n",
       "<style scoped>\n",
       "    .dataframe tbody tr th:only-of-type {\n",
       "        vertical-align: middle;\n",
       "    }\n",
       "\n",
       "    .dataframe tbody tr th {\n",
       "        vertical-align: top;\n",
       "    }\n",
       "\n",
       "    .dataframe thead th {\n",
       "        text-align: right;\n",
       "    }\n",
       "</style>\n",
       "<table border=\"1\" class=\"dataframe\">\n",
       "  <thead>\n",
       "    <tr style=\"text-align: right;\">\n",
       "      <th></th>\n",
       "      <th>Invoice ID</th>\n",
       "      <th>Branch</th>\n",
       "      <th>City</th>\n",
       "      <th>Customer type</th>\n",
       "      <th>Gender</th>\n",
       "      <th>Product line</th>\n",
       "      <th>Unit price</th>\n",
       "      <th>Quantity</th>\n",
       "      <th>Tax 5%</th>\n",
       "      <th>Total</th>\n",
       "      <th>Date</th>\n",
       "      <th>Time</th>\n",
       "      <th>Payment</th>\n",
       "      <th>cogs</th>\n",
       "      <th>gross margin percentage</th>\n",
       "      <th>gross income</th>\n",
       "      <th>Rating</th>\n",
       "    </tr>\n",
       "  </thead>\n",
       "  <tbody>\n",
       "    <tr>\n",
       "      <th>0</th>\n",
       "      <td>False</td>\n",
       "      <td>False</td>\n",
       "      <td>False</td>\n",
       "      <td>False</td>\n",
       "      <td>False</td>\n",
       "      <td>False</td>\n",
       "      <td>False</td>\n",
       "      <td>False</td>\n",
       "      <td>False</td>\n",
       "      <td>False</td>\n",
       "      <td>False</td>\n",
       "      <td>False</td>\n",
       "      <td>False</td>\n",
       "      <td>False</td>\n",
       "      <td>False</td>\n",
       "      <td>False</td>\n",
       "      <td>False</td>\n",
       "    </tr>\n",
       "    <tr>\n",
       "      <th>1</th>\n",
       "      <td>False</td>\n",
       "      <td>False</td>\n",
       "      <td>False</td>\n",
       "      <td>False</td>\n",
       "      <td>False</td>\n",
       "      <td>False</td>\n",
       "      <td>False</td>\n",
       "      <td>False</td>\n",
       "      <td>False</td>\n",
       "      <td>False</td>\n",
       "      <td>False</td>\n",
       "      <td>False</td>\n",
       "      <td>False</td>\n",
       "      <td>False</td>\n",
       "      <td>False</td>\n",
       "      <td>False</td>\n",
       "      <td>False</td>\n",
       "    </tr>\n",
       "    <tr>\n",
       "      <th>2</th>\n",
       "      <td>False</td>\n",
       "      <td>False</td>\n",
       "      <td>False</td>\n",
       "      <td>False</td>\n",
       "      <td>False</td>\n",
       "      <td>False</td>\n",
       "      <td>False</td>\n",
       "      <td>False</td>\n",
       "      <td>False</td>\n",
       "      <td>False</td>\n",
       "      <td>False</td>\n",
       "      <td>False</td>\n",
       "      <td>False</td>\n",
       "      <td>False</td>\n",
       "      <td>False</td>\n",
       "      <td>False</td>\n",
       "      <td>False</td>\n",
       "    </tr>\n",
       "    <tr>\n",
       "      <th>3</th>\n",
       "      <td>False</td>\n",
       "      <td>False</td>\n",
       "      <td>False</td>\n",
       "      <td>False</td>\n",
       "      <td>False</td>\n",
       "      <td>False</td>\n",
       "      <td>False</td>\n",
       "      <td>False</td>\n",
       "      <td>False</td>\n",
       "      <td>False</td>\n",
       "      <td>False</td>\n",
       "      <td>False</td>\n",
       "      <td>False</td>\n",
       "      <td>False</td>\n",
       "      <td>False</td>\n",
       "      <td>False</td>\n",
       "      <td>False</td>\n",
       "    </tr>\n",
       "    <tr>\n",
       "      <th>4</th>\n",
       "      <td>False</td>\n",
       "      <td>False</td>\n",
       "      <td>False</td>\n",
       "      <td>False</td>\n",
       "      <td>False</td>\n",
       "      <td>False</td>\n",
       "      <td>False</td>\n",
       "      <td>False</td>\n",
       "      <td>False</td>\n",
       "      <td>False</td>\n",
       "      <td>False</td>\n",
       "      <td>False</td>\n",
       "      <td>False</td>\n",
       "      <td>False</td>\n",
       "      <td>False</td>\n",
       "      <td>False</td>\n",
       "      <td>False</td>\n",
       "    </tr>\n",
       "    <tr>\n",
       "      <th>...</th>\n",
       "      <td>...</td>\n",
       "      <td>...</td>\n",
       "      <td>...</td>\n",
       "      <td>...</td>\n",
       "      <td>...</td>\n",
       "      <td>...</td>\n",
       "      <td>...</td>\n",
       "      <td>...</td>\n",
       "      <td>...</td>\n",
       "      <td>...</td>\n",
       "      <td>...</td>\n",
       "      <td>...</td>\n",
       "      <td>...</td>\n",
       "      <td>...</td>\n",
       "      <td>...</td>\n",
       "      <td>...</td>\n",
       "      <td>...</td>\n",
       "    </tr>\n",
       "    <tr>\n",
       "      <th>995</th>\n",
       "      <td>False</td>\n",
       "      <td>False</td>\n",
       "      <td>False</td>\n",
       "      <td>False</td>\n",
       "      <td>False</td>\n",
       "      <td>False</td>\n",
       "      <td>False</td>\n",
       "      <td>False</td>\n",
       "      <td>False</td>\n",
       "      <td>False</td>\n",
       "      <td>False</td>\n",
       "      <td>False</td>\n",
       "      <td>False</td>\n",
       "      <td>False</td>\n",
       "      <td>False</td>\n",
       "      <td>False</td>\n",
       "      <td>False</td>\n",
       "    </tr>\n",
       "    <tr>\n",
       "      <th>996</th>\n",
       "      <td>False</td>\n",
       "      <td>False</td>\n",
       "      <td>False</td>\n",
       "      <td>False</td>\n",
       "      <td>False</td>\n",
       "      <td>False</td>\n",
       "      <td>False</td>\n",
       "      <td>False</td>\n",
       "      <td>False</td>\n",
       "      <td>False</td>\n",
       "      <td>False</td>\n",
       "      <td>False</td>\n",
       "      <td>False</td>\n",
       "      <td>False</td>\n",
       "      <td>False</td>\n",
       "      <td>False</td>\n",
       "      <td>False</td>\n",
       "    </tr>\n",
       "    <tr>\n",
       "      <th>997</th>\n",
       "      <td>False</td>\n",
       "      <td>False</td>\n",
       "      <td>False</td>\n",
       "      <td>False</td>\n",
       "      <td>False</td>\n",
       "      <td>False</td>\n",
       "      <td>False</td>\n",
       "      <td>False</td>\n",
       "      <td>False</td>\n",
       "      <td>False</td>\n",
       "      <td>False</td>\n",
       "      <td>False</td>\n",
       "      <td>False</td>\n",
       "      <td>False</td>\n",
       "      <td>False</td>\n",
       "      <td>False</td>\n",
       "      <td>False</td>\n",
       "    </tr>\n",
       "    <tr>\n",
       "      <th>998</th>\n",
       "      <td>False</td>\n",
       "      <td>False</td>\n",
       "      <td>False</td>\n",
       "      <td>False</td>\n",
       "      <td>False</td>\n",
       "      <td>False</td>\n",
       "      <td>False</td>\n",
       "      <td>False</td>\n",
       "      <td>False</td>\n",
       "      <td>False</td>\n",
       "      <td>False</td>\n",
       "      <td>False</td>\n",
       "      <td>False</td>\n",
       "      <td>False</td>\n",
       "      <td>False</td>\n",
       "      <td>False</td>\n",
       "      <td>False</td>\n",
       "    </tr>\n",
       "    <tr>\n",
       "      <th>999</th>\n",
       "      <td>False</td>\n",
       "      <td>False</td>\n",
       "      <td>False</td>\n",
       "      <td>False</td>\n",
       "      <td>False</td>\n",
       "      <td>False</td>\n",
       "      <td>False</td>\n",
       "      <td>False</td>\n",
       "      <td>False</td>\n",
       "      <td>False</td>\n",
       "      <td>False</td>\n",
       "      <td>False</td>\n",
       "      <td>False</td>\n",
       "      <td>False</td>\n",
       "      <td>False</td>\n",
       "      <td>False</td>\n",
       "      <td>False</td>\n",
       "    </tr>\n",
       "  </tbody>\n",
       "</table>\n",
       "<p>1000 rows × 17 columns</p>\n",
       "</div>"
      ],
      "text/plain": [
       "     Invoice ID  Branch   City  Customer type  Gender  Product line  \\\n",
       "0         False   False  False          False   False         False   \n",
       "1         False   False  False          False   False         False   \n",
       "2         False   False  False          False   False         False   \n",
       "3         False   False  False          False   False         False   \n",
       "4         False   False  False          False   False         False   \n",
       "..          ...     ...    ...            ...     ...           ...   \n",
       "995       False   False  False          False   False         False   \n",
       "996       False   False  False          False   False         False   \n",
       "997       False   False  False          False   False         False   \n",
       "998       False   False  False          False   False         False   \n",
       "999       False   False  False          False   False         False   \n",
       "\n",
       "     Unit price  Quantity  Tax 5%  Total   Date   Time  Payment   cogs  \\\n",
       "0         False     False   False  False  False  False    False  False   \n",
       "1         False     False   False  False  False  False    False  False   \n",
       "2         False     False   False  False  False  False    False  False   \n",
       "3         False     False   False  False  False  False    False  False   \n",
       "4         False     False   False  False  False  False    False  False   \n",
       "..          ...       ...     ...    ...    ...    ...      ...    ...   \n",
       "995       False     False   False  False  False  False    False  False   \n",
       "996       False     False   False  False  False  False    False  False   \n",
       "997       False     False   False  False  False  False    False  False   \n",
       "998       False     False   False  False  False  False    False  False   \n",
       "999       False     False   False  False  False  False    False  False   \n",
       "\n",
       "     gross margin percentage  gross income  Rating  \n",
       "0                      False         False   False  \n",
       "1                      False         False   False  \n",
       "2                      False         False   False  \n",
       "3                      False         False   False  \n",
       "4                      False         False   False  \n",
       "..                       ...           ...     ...  \n",
       "995                    False         False   False  \n",
       "996                    False         False   False  \n",
       "997                    False         False   False  \n",
       "998                    False         False   False  \n",
       "999                    False         False   False  \n",
       "\n",
       "[1000 rows x 17 columns]"
      ]
     },
     "execution_count": 10,
     "metadata": {},
     "output_type": "execute_result"
    }
   ],
   "source": [
    "#find the missing value\n",
    "Com. isnull()"
   ]
  },
  {
   "cell_type": "code",
   "execution_count": 11,
   "id": "3c61caf6",
   "metadata": {},
   "outputs": [
    {
     "data": {
      "text/plain": [
       "Invoice ID                 0\n",
       "Branch                     0\n",
       "City                       0\n",
       "Customer type              0\n",
       "Gender                     0\n",
       "Product line               0\n",
       "Unit price                 0\n",
       "Quantity                   0\n",
       "Tax 5%                     0\n",
       "Total                      0\n",
       "Date                       0\n",
       "Time                       0\n",
       "Payment                    0\n",
       "cogs                       0\n",
       "gross margin percentage    0\n",
       "gross income               0\n",
       "Rating                     0\n",
       "dtype: int64"
      ]
     },
     "execution_count": 11,
     "metadata": {},
     "output_type": "execute_result"
    }
   ],
   "source": [
    "#since its a large set using this method will help you know if your initial output is correct\n",
    "#it gives the count value of the missing value\n",
    "Com. isnull().sum()"
   ]
  },
  {
   "cell_type": "markdown",
   "id": "8a5a03da",
   "metadata": {},
   "source": [
    "## Check the information of the DataFrame using the info method"
   ]
  },
  {
   "cell_type": "code",
   "execution_count": 12,
   "id": "ebac95d4",
   "metadata": {},
   "outputs": [
    {
     "name": "stdout",
     "output_type": "stream",
     "text": [
      "<class 'pandas.core.frame.DataFrame'>\n",
      "RangeIndex: 1000 entries, 0 to 999\n",
      "Data columns (total 17 columns):\n",
      " #   Column                   Non-Null Count  Dtype  \n",
      "---  ------                   --------------  -----  \n",
      " 0   Invoice ID               1000 non-null   object \n",
      " 1   Branch                   1000 non-null   object \n",
      " 2   City                     1000 non-null   object \n",
      " 3   Customer type            1000 non-null   object \n",
      " 4   Gender                   1000 non-null   object \n",
      " 5   Product line             1000 non-null   object \n",
      " 6   Unit price               1000 non-null   float64\n",
      " 7   Quantity                 1000 non-null   int64  \n",
      " 8   Tax 5%                   1000 non-null   float64\n",
      " 9   Total                    1000 non-null   float64\n",
      " 10  Date                     1000 non-null   object \n",
      " 11  Time                     1000 non-null   object \n",
      " 12  Payment                  1000 non-null   object \n",
      " 13  cogs                     1000 non-null   float64\n",
      " 14  gross margin percentage  1000 non-null   float64\n",
      " 15  gross income             1000 non-null   float64\n",
      " 16  Rating                   1000 non-null   float64\n",
      "dtypes: float64(7), int64(1), object(9)\n",
      "memory usage: 132.9+ KB\n"
     ]
    }
   ],
   "source": [
    "#gives info about the dataset\n",
    "Com.info()"
   ]
  },
  {
   "cell_type": "markdown",
   "id": "bd11fc47",
   "metadata": {},
   "source": [
    "# Step 3 - Dealing with DateTime Features"
   ]
  },
  {
   "cell_type": "code",
   "execution_count": 22,
   "id": "79845a59",
   "metadata": {},
   "outputs": [],
   "source": [
    "from datetime import datetime as dt"
   ]
  },
  {
   "cell_type": "code",
   "execution_count": 14,
   "id": "2b76bab4",
   "metadata": {},
   "outputs": [
    {
     "data": {
      "text/plain": [
       "Invoice ID                  object\n",
       "Branch                      object\n",
       "City                        object\n",
       "Customer type               object\n",
       "Gender                      object\n",
       "Product line                object\n",
       "Unit price                 float64\n",
       "Quantity                     int64\n",
       "Tax 5%                     float64\n",
       "Total                      float64\n",
       "Date                        object\n",
       "Time                        object\n",
       "Payment                     object\n",
       "cogs                       float64\n",
       "gross margin percentage    float64\n",
       "gross income               float64\n",
       "Rating                     float64\n",
       "dtype: object"
      ]
     },
     "execution_count": 14,
     "metadata": {},
     "output_type": "execute_result"
    }
   ],
   "source": [
    "Com.dtypes"
   ]
  },
  {
   "cell_type": "markdown",
   "id": "7fe55ef9",
   "metadata": {},
   "source": [
    "## Use to_datetime() to convert the date column to datetime"
   ]
  },
  {
   "cell_type": "code",
   "execution_count": 15,
   "id": "95298313",
   "metadata": {},
   "outputs": [
    {
     "data": {
      "text/plain": [
       "0      2/20/2019\n",
       "1       2/6/2019\n",
       "2       3/9/2019\n",
       "3      1/15/2019\n",
       "4      3/11/2019\n",
       "         ...    \n",
       "995    1/23/2019\n",
       "996     1/9/2019\n",
       "997    3/29/2019\n",
       "998    2/18/2019\n",
       "999    1/29/2019\n",
       "Name: Date, Length: 1000, dtype: object"
      ]
     },
     "execution_count": 15,
     "metadata": {},
     "output_type": "execute_result"
    }
   ],
   "source": [
    "Com['Date']"
   ]
  },
  {
   "cell_type": "code",
   "execution_count": 12,
   "id": "13d926e5",
   "metadata": {},
   "outputs": [],
   "source": [
    "#create format\n",
    "date='2020/11/26 12:00:00'\n",
    "Date=pd.to_datetime(date, format='%Y/%m/%d %H:%M:%S')"
   ]
  },
  {
   "cell_type": "code",
   "execution_count": 24,
   "id": "e8c391e2",
   "metadata": {},
   "outputs": [],
   "source": [
    "#convert date to datetime\n",
    "Com['Date'] = pd.to_datetime(Com['Date'])"
   ]
  },
  {
   "cell_type": "code",
   "execution_count": 25,
   "id": "7f806d5d",
   "metadata": {},
   "outputs": [
    {
     "data": {
      "text/plain": [
       "0     2019-02-20\n",
       "1     2019-02-06\n",
       "2     2019-03-09\n",
       "3     2019-01-15\n",
       "4     2019-03-11\n",
       "         ...    \n",
       "995   2019-01-23\n",
       "996   2019-01-09\n",
       "997   2019-03-29\n",
       "998   2019-02-18\n",
       "999   2019-01-29\n",
       "Name: Date, Length: 1000, dtype: datetime64[ns]"
      ]
     },
     "execution_count": 25,
     "metadata": {},
     "output_type": "execute_result"
    }
   ],
   "source": [
    "Com['Date']"
   ]
  },
  {
   "cell_type": "markdown",
   "id": "ddfdc570",
   "metadata": {},
   "source": [
    "## Check the datatype to confirm if it's in datetime"
   ]
  },
  {
   "cell_type": "code",
   "execution_count": 26,
   "id": "35b81be0",
   "metadata": {},
   "outputs": [
    {
     "data": {
      "text/plain": [
       "dtype('<M8[ns]')"
      ]
     },
     "execution_count": 26,
     "metadata": {},
     "output_type": "execute_result"
    }
   ],
   "source": [
    "Com['Date'].dtype"
   ]
  },
  {
   "cell_type": "code",
   "execution_count": 27,
   "id": "3e4fb958",
   "metadata": {},
   "outputs": [
    {
     "data": {
      "text/plain": [
       "True"
      ]
     },
     "execution_count": 27,
     "metadata": {},
     "output_type": "execute_result"
    }
   ],
   "source": [
    " np.dtype('datetime64[ns]') == np.dtype('<M8[ns]')"
   ]
  },
  {
   "cell_type": "code",
   "execution_count": 28,
   "id": "c34295b7",
   "metadata": {},
   "outputs": [
    {
     "data": {
      "text/plain": [
       "Invoice ID                         object\n",
       "Branch                             object\n",
       "City                               object\n",
       "Customer type                      object\n",
       "Gender                             object\n",
       "Product line                       object\n",
       "Unit price                        float64\n",
       "Quantity                            int64\n",
       "Tax 5%                            float64\n",
       "Total                             float64\n",
       "Date                       datetime64[ns]\n",
       "Time                               object\n",
       "Payment                            object\n",
       "cogs                              float64\n",
       "gross margin percentage           float64\n",
       "gross income                      float64\n",
       "Rating                            float64\n",
       "dtype: object"
      ]
     },
     "execution_count": 28,
     "metadata": {},
     "output_type": "execute_result"
    }
   ],
   "source": [
    "Com.dtypes"
   ]
  },
  {
   "cell_type": "markdown",
   "id": "20f6b66e",
   "metadata": {},
   "source": [
    "## Accurate conversion of the time column & prints appropriate data type"
   ]
  },
  {
   "cell_type": "code",
   "execution_count": 21,
   "id": "29e9dab2",
   "metadata": {},
   "outputs": [
    {
     "data": {
      "text/plain": [
       "0      13:27\n",
       "1      18:07\n",
       "2      17:03\n",
       "3      16:19\n",
       "4      15:30\n",
       "       ...  \n",
       "995    10:33\n",
       "996    11:40\n",
       "997    19:12\n",
       "998    11:40\n",
       "999    13:46\n",
       "Name: Time, Length: 1000, dtype: object"
      ]
     },
     "execution_count": 21,
     "metadata": {},
     "output_type": "execute_result"
    }
   ],
   "source": [
    "Com['Time']"
   ]
  },
  {
   "cell_type": "code",
   "execution_count": 9,
   "id": "598e8d78",
   "metadata": {},
   "outputs": [],
   "source": [
    "#convert time to datetime\n",
    "date='2020/11/26 12:00:00'\n",
    "Time=pd.to_datetime(date, format='%Y/%m/%d %H:%M:%S')"
   ]
  },
  {
   "cell_type": "code",
   "execution_count": 29,
   "id": "37638ca9",
   "metadata": {},
   "outputs": [],
   "source": [
    "Com['Time'] = pd.to_datetime(Com['Time'])"
   ]
  },
  {
   "cell_type": "code",
   "execution_count": 30,
   "id": "b34b458c",
   "metadata": {},
   "outputs": [
    {
     "data": {
      "text/plain": [
       "0     2022-02-16 13:27:00\n",
       "1     2022-02-16 18:07:00\n",
       "2     2022-02-16 17:03:00\n",
       "3     2022-02-16 16:19:00\n",
       "4     2022-02-16 15:30:00\n",
       "              ...        \n",
       "995   2022-02-16 10:33:00\n",
       "996   2022-02-16 11:40:00\n",
       "997   2022-02-16 19:12:00\n",
       "998   2022-02-16 11:40:00\n",
       "999   2022-02-16 13:46:00\n",
       "Name: Time, Length: 1000, dtype: datetime64[ns]"
      ]
     },
     "execution_count": 30,
     "metadata": {},
     "output_type": "execute_result"
    }
   ],
   "source": [
    "Com['Time']"
   ]
  },
  {
   "cell_type": "code",
   "execution_count": 31,
   "id": "5d153cfc",
   "metadata": {},
   "outputs": [
    {
     "data": {
      "text/plain": [
       "dtype('<M8[ns]')"
      ]
     },
     "execution_count": 31,
     "metadata": {},
     "output_type": "execute_result"
    }
   ],
   "source": [
    "Com['Time'].dtypes   "
   ]
  },
  {
   "cell_type": "markdown",
   "id": "3fece2c1",
   "metadata": {},
   "source": [
    "## Accurate extraction of the Day, Month, Year & Hour features"
   ]
  },
  {
   "cell_type": "code",
   "execution_count": 32,
   "id": "a0aa47b3",
   "metadata": {},
   "outputs": [],
   "source": [
    "#Accurate extraction of Day\n",
    "Com['day']= Com['Date'].dt.day"
   ]
  },
  {
   "cell_type": "code",
   "execution_count": 33,
   "id": "385790e2",
   "metadata": {},
   "outputs": [
    {
     "data": {
      "text/plain": [
       "0      20\n",
       "1       6\n",
       "2       9\n",
       "3      15\n",
       "4      11\n",
       "       ..\n",
       "995    23\n",
       "996     9\n",
       "997    29\n",
       "998    18\n",
       "999    29\n",
       "Name: day, Length: 1000, dtype: int64"
      ]
     },
     "execution_count": 33,
     "metadata": {},
     "output_type": "execute_result"
    }
   ],
   "source": [
    "Com['day']"
   ]
  },
  {
   "cell_type": "code",
   "execution_count": 34,
   "id": "7dbfd7c0",
   "metadata": {},
   "outputs": [],
   "source": [
    "#Accurate extraction of Month\n",
    "Com['month']= Com['Date'].dt.month"
   ]
  },
  {
   "cell_type": "code",
   "execution_count": 35,
   "id": "965a159a",
   "metadata": {},
   "outputs": [
    {
     "data": {
      "text/plain": [
       "0      2\n",
       "1      2\n",
       "2      3\n",
       "3      1\n",
       "4      3\n",
       "      ..\n",
       "995    1\n",
       "996    1\n",
       "997    3\n",
       "998    2\n",
       "999    1\n",
       "Name: month, Length: 1000, dtype: int64"
      ]
     },
     "execution_count": 35,
     "metadata": {},
     "output_type": "execute_result"
    }
   ],
   "source": [
    "Com['month']"
   ]
  },
  {
   "cell_type": "code",
   "execution_count": 37,
   "id": "3e9c6a21",
   "metadata": {},
   "outputs": [],
   "source": [
    "#Accurate extraction of Year\n",
    "Com['year']= Com['Date'].dt.year"
   ]
  },
  {
   "cell_type": "code",
   "execution_count": 38,
   "id": "a417b2e8",
   "metadata": {},
   "outputs": [
    {
     "data": {
      "text/plain": [
       "0      2019\n",
       "1      2019\n",
       "2      2019\n",
       "3      2019\n",
       "4      2019\n",
       "       ... \n",
       "995    2019\n",
       "996    2019\n",
       "997    2019\n",
       "998    2019\n",
       "999    2019\n",
       "Name: year, Length: 1000, dtype: int64"
      ]
     },
     "execution_count": 38,
     "metadata": {},
     "output_type": "execute_result"
    }
   ],
   "source": [
    "Com['year']"
   ]
  },
  {
   "cell_type": "code",
   "execution_count": 39,
   "id": "d6fa4da3",
   "metadata": {},
   "outputs": [],
   "source": [
    "#Accurate extraction of Hour\n",
    "Com['hour']= Com['Time'].dt.hour"
   ]
  },
  {
   "cell_type": "code",
   "execution_count": 40,
   "id": "519a1c32",
   "metadata": {},
   "outputs": [
    {
     "data": {
      "text/plain": [
       "0      13\n",
       "1      18\n",
       "2      17\n",
       "3      16\n",
       "4      15\n",
       "       ..\n",
       "995    10\n",
       "996    11\n",
       "997    19\n",
       "998    11\n",
       "999    13\n",
       "Name: hour, Length: 1000, dtype: int64"
      ]
     },
     "execution_count": 40,
     "metadata": {},
     "output_type": "execute_result"
    }
   ],
   "source": [
    "Com['hour']"
   ]
  },
  {
   "cell_type": "markdown",
   "id": "1097c819",
   "metadata": {},
   "source": [
    "## The numbers of unique hours of sales in the supermarket are accurately determined."
   ]
  },
  {
   "cell_type": "code",
   "execution_count": 41,
   "id": "b0ed08ea",
   "metadata": {},
   "outputs": [
    {
     "data": {
      "text/plain": [
       "11"
      ]
     },
     "execution_count": 41,
     "metadata": {},
     "output_type": "execute_result"
    }
   ],
   "source": [
    "Com[\"hour\"].nunique()"
   ]
  },
  {
   "cell_type": "markdown",
   "id": "18c0a736",
   "metadata": {},
   "source": [
    "## Result that shows an array that contains the unique sales hours."
   ]
  },
  {
   "cell_type": "code",
   "execution_count": 42,
   "id": "9b76b16a",
   "metadata": {},
   "outputs": [
    {
     "data": {
      "text/plain": [
       "array([13, 18, 17, 16, 15, 10, 12, 19, 14, 11, 20], dtype=int64)"
      ]
     },
     "execution_count": 42,
     "metadata": {},
     "output_type": "execute_result"
    }
   ],
   "source": [
    "Com[\"hour\"].unique()"
   ]
  },
  {
   "cell_type": "markdown",
   "id": "af6fc5ac",
   "metadata": {},
   "source": [
    "# Step 4 - Unique Values in Columns\n",
    "Appropriate method to generate the unique values in the categorical columns (apart from the example - Branch column).\n",
    "\n",
    "\n"
   ]
  },
  {
   "cell_type": "code",
   "execution_count": 35,
   "id": "b252b5e7",
   "metadata": {},
   "outputs": [
    {
     "data": {
      "text/plain": [
       "Index(['Invoice ID', 'Branch', 'City', 'Customer type', 'Gender',\n",
       "       'Product line', 'Unit price', 'Quantity', 'Tax 5%', 'Total', 'Date',\n",
       "       'Time', 'Payment', 'cogs', 'gross margin percentage', 'gross income',\n",
       "       'Rating', 'day', 'month', 'year', 'hour'],\n",
       "      dtype='object')"
      ]
     },
     "execution_count": 35,
     "metadata": {},
     "output_type": "execute_result"
    }
   ],
   "source": [
    "#view the columns names.\n",
    "Com.columns"
   ]
  },
  {
   "cell_type": "code",
   "execution_count": 36,
   "id": "77436b7f",
   "metadata": {},
   "outputs": [
    {
     "data": {
      "text/plain": [
       "['B', 'A', 'C']"
      ]
     },
     "execution_count": 36,
     "metadata": {},
     "output_type": "execute_result"
    }
   ],
   "source": [
    "#Find the unique values of each column\n",
    "Com['Branch'].unique().tolist()"
   ]
  },
  {
   "cell_type": "code",
   "execution_count": 37,
   "id": "ec4080eb",
   "metadata": {
    "scrolled": true
   },
   "outputs": [
    {
     "name": "stdout",
     "output_type": "stream",
     "text": [
      "Invoice ID:\n",
      "['692-92-5582' '351-62-0822' '529-56-3974' '299-46-1805' '319-50-3348'\n",
      " '371-85-5789' '273-16-6619' '649-29-6775' '145-94-9061' '871-79-8483'\n",
      " '149-71-6266' '640-49-2076' '777-82-7220' '280-35-5823' '354-25-5821'\n",
      " '132-32-9879' '370-41-7321' '727-46-3608' '669-54-1719' '616-24-2851'\n",
      " '242-55-6721' '347-34-2234' '853-23-2453' '109-28-2512' '510-95-6347'\n",
      " '847-38-7188' '318-68-5053' '152-08-9985' '766-85-7061' '733-01-9107'\n",
      " '716-39-1409' '479-26-8945' '227-78-1148' '291-32-1427' '659-65-8956'\n",
      " '378-24-2715' '219-22-9386' '268-27-6179' '549-84-7482' '191-10-6171'\n",
      " '695-51-0018' '590-83-4591' '241-72-9525' '262-47-2794' '608-96-3517'\n",
      " '279-74-2924' '307-85-2293' '743-04-1105' '423-57-2993' '548-46-9322'\n",
      " '505-02-0892' '316-55-4634' '608-27-6295' '414-12-7047' '895-66-0685'\n",
      " '305-14-0245' '732-04-5373' '284-34-9626' '437-58-8131' '641-43-2399'\n",
      " '542-41-0513' '875-46-5808' '394-43-4238' '573-58-9734' '817-69-8206'\n",
      " '142-63-6033' '656-16-1063' '891-58-8335' '560-30-5617' '549-03-9315'\n",
      " '790-29-1172' '239-36-3640' '468-01-2051' '836-82-5858' '466-61-5506'\n",
      " '289-65-5721' '545-46-3100' '418-02-5978' '269-04-5750' '346-84-3103'\n",
      " '376-02-8238' '866-05-7563' '785-13-7708' '845-51-0542' '110-48-7033'\n",
      " '655-85-5130' '154-74-7179' '571-94-0759' '783-09-1637' '477-24-6490'\n",
      " '566-19-5475' '498-41-1961' '283-79-9594' '139-20-0155' '585-03-5943'\n",
      " '573-10-3877' '396-90-2219' '532-59-7201' '276-54-0879' '730-61-8757'\n",
      " '868-81-1752' '692-27-8933' '374-17-3652' '378-07-7001' '433-75-6987'\n",
      " '873-95-4984' '400-45-1220' '115-99-4379' '565-67-6697' '889-04-9723'\n",
      " '453-63-6187' '578-80-7669' '201-86-2184' '261-12-8671' '843-01-4703'\n",
      " '182-69-8360' '868-52-7573' '525-88-7307' '596-42-3999' '173-82-9529'\n",
      " '760-54-1821' '793-10-3222' '346-12-3257' '831-64-0259' '725-32-9708'\n",
      " '244-08-0162' '569-71-4390' '268-03-6164' '848-07-1692' '301-81-8610'\n",
      " '198-84-7132' '650-98-6268' '741-73-3559' '286-75-7818' '616-87-0016'\n",
      " '837-55-7229' '394-30-3170' '390-80-5128' '296-11-7041' '449-27-2918'\n",
      " '891-01-7034' '744-09-5786' '767-54-1907' '710-46-4433' '533-33-5337'\n",
      " '234-03-4040' '554-53-3790' '731-59-7531' '701-69-8742' '305-18-3552'\n",
      " '438-01-4015' '709-58-4068' '627-95-3243' '686-41-0932' '608-04-3797'\n",
      " '437-53-3084' '632-32-4574' '401-18-8016' '277-63-2961' '282-35-2475'\n",
      " '511-54-3087' '387-49-4215' '862-17-9201' '291-21-5991' '347-72-6115'\n",
      " '425-85-2085' '734-91-1155' '286-62-6248' '339-38-9982' '827-44-5872'\n",
      " '857-67-9057' '339-12-4827' '173-50-1108' '841-18-8232' '701-23-5550'\n",
      " '539-21-7227' '747-58-7183' '582-52-8065' '210-57-1719' '356-44-8813'\n",
      " '198-66-9832' '174-75-0888' '134-54-4720' '514-37-2845' '241-11-2261'\n",
      " '834-83-1826' '343-61-3544' '355-34-6244' '339-96-8318' '458-61-0011'\n",
      " '207-73-1363' '359-90-3665' '375-72-3056' '585-11-6748' '470-31-3286'\n",
      " '642-30-6693' '830-58-2383' '349-97-8902' '789-23-8625' '327-40-9673'\n",
      " '670-79-6321' '852-62-7105' '598-06-7312' '135-13-8269' '628-90-8624'\n",
      " '420-04-7590' '182-88-2763' '188-55-0967' '364-33-8584' '665-63-9737'\n",
      " '695-09-5146' '794-32-2436' '574-31-8277' '369-82-2676' '563-47-4072'\n",
      " '149-15-7606' '133-77-3154' '322-02-2271' '725-67-2480' '779-42-2410'\n",
      " '190-14-3147' '679-22-6530' '642-61-4706' '576-31-4774' '242-11-3142'\n",
      " '752-23-3760' '528-87-5606' '320-85-2052' '510-79-0415' '241-96-5076'\n",
      " '767-97-4650' '826-58-8051' '176-64-7711' '191-29-0321' '729-06-2010'\n",
      " '640-48-5028' '186-79-9562' '834-45-5519' '821-14-9046' '418-05-0656'\n",
      " '776-68-1096' '434-35-9162' '174-64-0215' '299-29-0180' '438-23-1242'\n",
      " '238-45-6950' '197-77-7132' '457-13-1708' '487-79-6868' '210-30-7976'\n",
      " '775-72-1988' '785-96-0615' '842-40-8179' '525-09-8450' '593-14-4239'\n",
      " '388-76-2555' '711-31-1234' '707-32-7409' '120-54-2248' '875-31-8302'\n",
      " '457-94-0464' '744-16-7898' '605-83-1050' '359-94-5395' '751-15-6198'\n",
      " '831-81-6575' '559-61-5987' '565-91-4567' '499-27-7781' '869-11-3082'\n",
      " '190-59-3964' '366-43-6862' '109-86-4363' '222-42-0244' '636-17-0325'\n",
      " '343-75-9322' '427-45-9297' '670-71-7306' '291-59-1384' '866-70-2814'\n",
      " '895-03-6665' '770-42-8960' '234-36-2483' '152-03-4217' '533-66-5566'\n",
      " '361-59-0574' '544-55-9589' '608-05-3804' '761-49-0439' '490-95-0021'\n",
      " '311-13-6971' '114-35-5271' '715-20-1673' '811-35-1094' '699-88-1972'\n",
      " '509-10-0516' '851-98-3555' '624-01-8356' '313-66-9943' '777-67-2495'\n",
      " '636-98-3364' '181-82-6255' '226-34-0034' '321-49-7382' '431-66-2305'\n",
      " '825-94-5922' '641-62-7288' '501-61-1753' '676-10-2200' '365-16-4334'\n",
      " '503-21-4385' '305-89-2768' '574-80-1489' '200-40-6154' '430-02-3888'\n",
      " '794-42-3736' '172-42-8274' '214-30-2776' '746-04-1077' '448-34-8700'\n",
      " '452-04-8808' '883-69-1285' '518-71-6847' '156-20-0370' '151-33-7434'\n",
      " '374-38-5555' '764-44-8999' '552-44-5977' '430-53-4718' '602-16-6955'\n",
      " '690-01-6631' '303-96-2227' '750-67-8428' '631-41-3108' '123-19-1176'\n",
      " '373-73-7910' '355-53-5943' '665-32-9167' '365-64-0515' '252-56-2699'\n",
      " '829-34-3910' '656-95-9349' '765-26-6951' '329-62-1586' '636-48-8204'\n",
      " '549-59-1358' '227-03-5010' '189-17-4241' '848-62-7243' '595-11-5460'\n",
      " '129-29-8530' '272-65-1806' '162-48-8011' '106-35-6779' '635-40-6220'\n",
      " '817-48-8732' '199-75-8169' '877-22-3308' '232-11-3025' '382-03-4532'\n",
      " '287-21-9091' '381-20-0914' '633-44-8566' '504-35-8843' '873-51-0671'\n",
      " '594-34-4444' '865-92-6136' '212-62-1842' '704-48-3927' '630-74-5166'\n",
      " '645-44-1170' '642-32-2990' '638-60-7125' '668-90-8900' '870-54-3162'\n",
      " '802-70-5316' '700-81-1757' '354-39-5160' '575-30-8091' '239-10-7476'\n",
      " '685-64-1609' '238-49-0436' '746-94-0204' '782-95-9291' '275-28-0149'\n",
      " '101-17-6199' '687-47-8271' '796-32-9050' '105-31-1824' '249-42-3782'\n",
      " '827-26-2100' '175-54-2529' '407-63-8975' '851-28-6367' '586-25-0848'\n",
      " '400-60-7251' '831-07-6050' '856-22-8149' '749-24-1565' '888-02-0338'\n",
      " '802-43-8934' '319-74-2561' '213-72-6612' '721-86-6247' '157-13-5295'\n",
      " '645-78-8093' '478-06-7835' '540-11-4336' '448-81-5016' '217-58-1179'\n",
      " '530-90-9855' '604-70-6476' '799-71-1548' '290-68-2984' '704-11-6354'\n",
      " '366-93-0948' '729-09-9681' '151-16-1484' '850-41-9669' '447-15-7839'\n",
      " '253-12-6086' '144-51-6085' '731-14-2199' '126-54-1082' '633-91-1052'\n",
      " '828-61-5674' '136-08-6195' '490-29-1201' '667-92-0055' '565-17-3836'\n",
      " '430-60-3493' '278-97-7759' '316-68-6352' '744-02-5987' '307-83-9164'\n",
      " '439-54-7422' '411-77-0180' '286-01-5402' '803-17-8013' '512-98-1403'\n",
      " '848-42-2560' '870-76-1733' '423-64-4619' '372-94-8041' '563-91-7120'\n",
      " '746-54-5508' '815-11-1168' '340-66-0321' '634-97-8956' '566-71-1091'\n",
      " '442-48-3607' '527-09-6272' '898-04-2717' '150-89-8043' '135-84-8019'\n",
      " '441-94-7118' '531-80-1784' '834-61-8124' '612-36-5536' '462-67-9126'\n",
      " '468-88-0009' '254-31-0042' '422-29-8786' '667-23-5919' '289-15-7034'\n",
      " '662-72-2873' '725-56-0833' '563-36-9814' '308-47-4913' '885-17-6250'\n",
      " '726-27-2396' '316-01-3952' '882-40-4577' '732-67-5346' '256-08-8343'\n",
      " '132-23-6451' '696-90-2548' '472-15-9636' '745-71-3520' '269-10-8440'\n",
      " '325-77-6186' '459-50-7686' '345-08-4992' '138-17-5109' '301-11-9629'\n",
      " '727-17-0390' '568-88-3448' '187-83-5490' '470-32-9057' '340-21-9136'\n",
      " '405-31-3305' '676-39-6028' '502-05-1910' '485-30-8700' '575-67-1508'\n",
      " '674-15-9296' '795-49-7276' '510-09-5628' '420-18-8989' '726-29-6793'\n",
      " '209-61-0206' '595-27-4851' '189-52-0236' '220-28-1851' '609-81-8548'\n",
      " '534-01-4457' '719-89-8991' '827-77-7633' '287-83-1405' '435-13-4908'\n",
      " '892-05-6689' '643-38-7867' '308-81-0538' '460-35-4390' '647-50-1224'\n",
      " '541-48-8554' '213-32-1216' '134-75-2619' '712-39-0363' '218-59-9410'\n",
      " '760-90-2357' '698-98-5964' '651-88-7328' '239-48-4278' '550-84-8664'\n",
      " '797-88-0493' '443-82-0585' '127-47-6963' '278-86-2735' '695-28-6250'\n",
      " '227-50-3718' '560-49-6611' '880-35-0356' '152-68-2907' '334-64-2006'\n",
      " '559-98-9873' '318-12-0304' '421-95-9805' '443-59-0061' '509-29-3912'\n",
      " '828-46-6863' '420-97-3340' '436-54-4512' '816-57-2053' '856-66-2701'\n",
      " '308-39-1707' '149-61-1929' '655-07-2265' '589-02-8023' '610-46-4100'\n",
      " '706-36-6154' '742-04-5161' '169-52-4504' '562-12-5430' '816-72-8853'\n",
      " '491-38-3499' '518-17-2983' '588-47-8641' '811-03-8790' '274-05-5470'\n",
      " '130-67-4723' '105-10-6182' '648-83-1321' '305-03-2383' '689-05-1884'\n",
      " '800-09-8606' '182-52-7000' '868-06-0466' '445-30-9252' '786-94-2700'\n",
      " '258-92-7466' '857-16-3520' '482-17-1179' '788-21-5741' '247-11-2470'\n",
      " '635-28-5728' '756-49-0168' '805-86-0265' '373-14-0504' '546-80-2899'\n",
      " '585-86-8361' '807-14-7833' '652-43-6591' '406-46-7107' '250-17-5703'\n",
      " '156-95-3964' '410-67-1709' '587-73-4862' '787-87-2010' '886-54-6089'\n",
      " '534-53-3526' '307-04-2070' '404-91-5964' '497-37-6538' '651-96-5970'\n",
      " '263-12-5321' '702-72-0487' '864-24-7918' '759-29-9521' '220-68-6701'\n",
      " '618-34-8551' '257-60-7754' '380-60-5336' '674-56-6360' '778-34-2523'\n",
      " '832-51-6761' '186-43-8965' '276-75-6884' '569-76-2760' '760-53-9233'\n",
      " '416-17-9926' '237-44-6163' '528-14-9470' '807-34-3742' '288-62-1085'\n",
      " '497-36-0989' '860-73-6466' '896-34-0956' '804-38-3935' '585-90-0249'\n",
      " '125-45-2293' '843-73-4724' '409-33-9708' '160-22-2687' '748-45-2862'\n",
      " '316-66-3011' '840-76-5966' '124-31-1458' '852-82-2749' '873-14-6353'\n",
      " '166-19-2553' '737-88-5876' '448-61-3783' '291-55-6563' '548-48-3156'\n",
      " '460-93-5834' '325-89-4209' '884-80-6021' '880-46-5796' '146-09-5432'\n",
      " '595-94-9924' '865-41-9075' '186-71-5196' '453-33-6436' '522-57-8364'\n",
      " '459-45-2396' '749-81-8133' '397-25-8725' '243-55-8457' '361-85-2571'\n",
      " '131-70-8179' '720-72-2436' '809-69-9497' '449-16-6770' '333-23-2632'\n",
      " '489-82-1237' '846-10-0341' '384-59-6655' '324-92-3863' '593-08-5916'\n",
      " '558-60-5016' '195-06-0432' '605-03-2706' '531-56-4728' '221-25-5073'\n",
      " '809-46-1866' '139-32-4183' '886-18-2897' '745-74-0715' '727-02-1313'\n",
      " '347-56-2442' '849-09-3807' '226-31-3081' '699-14-3026' '315-22-5665'\n",
      " '300-71-4605' '183-56-6882' '232-16-2483' '333-73-7901' '554-53-8700'\n",
      " '228-96-1411' '617-15-4209' '574-22-5561' '326-78-5178' '778-71-5554'\n",
      " '399-46-5918' '120-06-4233' '285-68-5083' '803-83-5989' '838-78-4295'\n",
      " '393-65-2792' '796-12-2025' '841-35-6630' '732-94-0499' '263-10-3913'\n",
      " '829-49-1914' '756-01-7507' '870-72-4431' '480-63-2856' '787-56-0757'\n",
      " '360-39-5055' '730-50-9884' '362-58-8315' '565-80-5980' '225-32-0908'\n",
      " '512-91-0811' '871-39-9221' '163-56-7055' '189-98-2939' '551-21-3069'\n",
      " '628-34-3388' '588-01-7461' '861-77-0145' '210-67-5886' '237-01-6122'\n",
      " '225-98-1496' '659-36-1684' '336-78-2147' '189-08-9157' '663-86-9076'\n",
      " '483-71-1164' '597-78-7908' '731-81-9469' '280-17-4359' '338-65-2210'\n",
      " '488-25-4221' '458-41-1477' '568-90-5112' '584-86-7256' '214-17-6927'\n",
      " '400-89-4171' '894-41-5205' '423-80-0988' '234-65-2137' '733-33-4967'\n",
      " '139-52-2867' '342-65-4817' '130-98-8941' '434-83-9547' '824-88-3614'\n",
      " '593-65-1552' '286-43-6208' '556-86-3144' '848-24-9445' '699-01-4164'\n",
      " '420-11-4919' '606-80-4905' '426-39-2418' '672-51-8681' '263-87-5680'\n",
      " '677-11-0152' '389-25-3394' '279-62-1445' '746-68-6593' '583-72-1480'\n",
      " '211-30-9270' '755-12-3214' '142-72-4741' '662-47-5456' '883-17-4236'\n",
      " '380-94-4661' '821-07-3596' '808-65-0703' '687-15-1097' '526-86-8552'\n",
      " '376-56-3573' '537-72-0426' '523-38-0215' '593-95-4461' '226-71-3580'\n",
      " '558-80-4082' '211-05-0490' '727-75-6477' '779-06-0012' '446-47-6729'\n",
      " '735-06-4124' '181-94-6432' '227-07-4446' '174-36-3675' '428-83-5800'\n",
      " '603-07-0961' '704-20-4138' '787-15-1757' '649-11-3678' '622-20-1945'\n",
      " '719-76-3868' '835-16-0096' '633-09-3463' '416-13-5917' '725-96-3778'\n",
      " '860-79-0874' '320-49-6392' '632-90-0281' '554-42-2417' '605-72-4132'\n",
      " '471-41-2823' '272-27-9238' '834-25-9262' '122-61-9553' '613-59-9758'\n",
      " '730-70-9830' '382-25-8917' '743-88-1662' '595-86-2894' '462-78-5240'\n",
      " '153-58-4872' '689-16-9784' '394-41-0748' '541-89-9860' '110-05-6330'\n",
      " '651-61-0874' '236-86-3015' '587-03-7455' '372-26-1506' '750-57-9686'\n",
      " '186-09-3669' '266-76-6436' '740-22-2500' '271-88-8734' '489-64-4354'\n",
      " '574-57-9721' '751-69-0068' '257-73-1380' '549-96-4200' '810-60-6344'\n",
      " '450-28-2866' '192-98-7397' '235-46-8343' '453-12-7053' '325-90-8763'\n",
      " '729-46-7422' '639-76-1242' '326-71-2155' '320-32-8842' '878-30-2331'\n",
      " '440-59-5691' '746-19-0921' '233-34-0817' '767-05-1286' '598-47-9715'\n",
      " '541-08-3113' '246-11-3901' '493-65-6248' '556-72-8512' '148-82-2527'\n",
      " '556-97-7101' '862-59-8517' '573-98-8548' '620-02-2046' '602-80-9671'\n",
      " '503-07-0930' '413-20-6708' '521-18-7827' '600-38-9738' '451-28-5717'\n",
      " '133-14-7229' '236-27-1144' '583-41-4548' '358-88-9262' '343-87-0864'\n",
      " '243-47-2663' '399-69-4630' '283-26-5248' '866-99-7614' '718-57-9773'\n",
      " '408-26-9866' '592-34-6155' '390-31-6381' '339-18-7061' '379-17-6588'\n",
      " '302-15-2162' '788-07-8452' '123-35-4896' '258-69-7810' '219-61-4139'\n",
      " '881-41-7302' '373-09-4567' '484-22-8230' '544-32-5024' '277-35-5865'\n",
      " '284-54-4231' '840-19-2096' '641-96-3695' '318-81-2368' '155-45-3814'\n",
      " '131-15-8856' '273-84-2164' '778-89-7974' '859-71-0933' '740-11-5257'\n",
      " '250-81-7186' '842-29-4695' '641-51-2661' '714-02-3114' '408-66-6712'\n",
      " '556-41-6224' '648-94-3045' '370-96-0655' '173-57-2300' '394-55-6384'\n",
      " '266-20-6657' '196-01-2849' '372-62-5264' '751-41-9720' '626-43-7888'\n",
      " '162-65-8559' '760-27-5490' '728-88-7867' '183-21-3799' '268-20-3585'\n",
      " '735-32-9839' '678-79-0726' '592-46-1692' '149-14-0304' '442-44-6497'\n",
      " '210-74-9613' '607-65-2441' '386-27-7606' '137-63-5492' '733-29-1227'\n",
      " '451-73-2711' '345-68-9016' '390-17-5806' '664-14-2882' '314-23-4520'\n",
      " '288-38-3758' '801-88-0346' '759-98-4285' '201-63-8275' '471-06-8611'\n",
      " '200-16-5952' '102-77-2261' '102-06-2002' '629-42-4133' '468-99-7231'\n",
      " '516-77-6464' '886-77-9084' '790-38-4466' '704-10-4056' '400-80-4065'\n",
      " '443-60-9639' '401-09-4232' '324-41-6833' '474-33-8305' '189-55-2313'\n",
      " '815-04-6282' '477-59-2456' '784-21-9238' '538-22-0304' '660-29-7083'\n",
      " '271-77-8740' '549-23-9016' '862-29-5914' '845-94-6841' '658-66-3967'\n",
      " '848-95-6252' '176-78-1170' '101-81-4070' '631-34-1880' '584-66-4073'\n",
      " '154-87-7367' '885-56-0389' '115-38-7388' '137-74-8729' '389-70-2397'\n",
      " '607-76-6216' '781-84-8059' '409-49-6995' '725-54-0677' '377-79-7592'\n",
      " '545-07-8534' '118-62-1812' '450-42-3339' '151-27-8496' '717-96-4189'\n",
      " '722-13-2115' '246-55-6923' '838-02-1821' '887-42-0517' '457-12-0244'\n",
      " '756-93-1854' '458-10-8612' '235-06-8510' '433-08-7822' '500-02-2261'\n",
      " '702-83-5291' '859-97-6048' '373-88-1424' '784-08-0310' '577-34-7579'\n",
      " '867-47-1948' '256-58-3609' '364-34-2972' '744-82-9138' '728-47-9078'\n",
      " '148-41-7930' '189-40-5216' '267-62-7380' '652-49-6720' '233-67-5758']\n",
      "\n",
      "\n",
      "Branch:\n",
      "['B' 'A' 'C']\n",
      "\n",
      "\n",
      "City:\n",
      "['Abuja' 'Lagos' 'Port Harcourt']\n",
      "\n",
      "\n",
      "Customer type:\n",
      "['Member' 'Normal']\n",
      "\n",
      "\n",
      "Gender:\n",
      "['Female' 'Male']\n",
      "\n",
      "\n",
      "Product line:\n",
      "['Food and beverages' 'Fashion accessories' 'Electronic accessories'\n",
      " 'Sports and travel' 'Home and lifestyle' 'Health and beauty']\n",
      "\n",
      "\n",
      "Unit price:\n"
     ]
    },
    {
     "name": "stdout",
     "output_type": "stream",
     "text": [
      "[19742.4  5212.8  9183.6 33739.2 14508.  31672.8 11952.  12067.2 31809.6\n",
      " 33886.8 28105.2 30160.8 10843.2 31219.2 24883.2 33825.6 20408.4  7203.6\n",
      "  6814.8  6433.2  5817.6 19825.2 27266.4 35139.6 17467.2 34804.8 27716.4\n",
      " 23169.6 31633.2 29772.  10926.   5936.4 26222.4  7898.4 18489.6 19238.4\n",
      " 35985.6 20329.2 32500.8 14263.2 12542.4 31482.  18687.6 25869.6 32954.4\n",
      " 25981.2 18100.8 34999.2 33620.4 14364.  15325.2 28818.  19040.4  7124.4\n",
      "  6508.8 34016.4 16729.2 27734.4 26467.2  9198.  20696.4  9324.   6397.2\n",
      " 10933.2 35902.8 33249.6 16711.2 10659.6  8917.2 34153.2 20642.4 16326.\n",
      " 22348.8 24973.2 32652.  29293.2  3812.4 30272.4 26575.2  4759.2 33793.2\n",
      " 29304.  26301.6 16758.  11743.2 13788.  19602.  26856.  24274.8 35895.6\n",
      " 17269.2 24004.8 17463.6  6519.6 14043.6  5385.6 28774.8 35186.4 18406.8\n",
      "  7927.2 20862.  15415.2 17312.4 20149.2 27684.   4860.  19702.8  9720.\n",
      " 32090.4  9900.  26989.2  9453.6 21945.6 12736.8  8514.  35888.4 27295.2\n",
      "  6559.2 13662.   4892.4 14781.6  6926.4 14310.  24735.6 12315.6  7873.2\n",
      " 34599.6 20599.2  9151.2 14619.6  7513.2 24217.2 24868.8 34394.4 17078.4\n",
      " 31834.8  6894.   9745.2 14083.2 26895.6  7923.6 10641.6 27864.  28580.4\n",
      " 26298.  13327.2 26125.2 12373.2 21736.8 17816.4 14792.4 27964.8 12492.\n",
      "  9115.2 35960.4 27331.2 35326.8 26629.2 33591.6 31842.  17460.  30258.\n",
      " 22064.4 32666.4 19749.6 16455.6 14115.6 21549.6 19569.6  8262.  26625.6\n",
      "  7264.8 25632.  13971.6 18554.4 20617.2 19551.6 20966.4 13492.8 25934.4\n",
      "  7768.8 15271.2 35730.  28749.6 29534.4  9601.2 26060.4 29271.6 21708.\n",
      " 25023.6 22701.6 34848.   5335.2 19623.6 11430.  20840.4 33559.2 26136.\n",
      " 34052.4 29970.  32886.  28396.8 29728.8 35892.  28767.6 23929.2  6346.8\n",
      " 18871.2 35564.4 20041.2 12106.8 27237.6 20091.6 13435.2 21664.8 15469.2\n",
      " 21150.  20786.4  6469.2 14623.2 33624.  26427.6 30157.2 23068.8 14212.8\n",
      " 12531.6  8308.8 17676.  23338.8 22388.4 11635.2  7117.2 28969.2 31820.4\n",
      " 25837.2 15480.   6292.8  9201.6 15883.2  8402.4 25106.4 18784.8 27316.8\n",
      " 19339.2 32961.6 23482.8  4424.4  8035.2 26380.8 12866.4 27792.  25966.8\n",
      " 34365.6  4928.4 34430.4 10389.6 33616.8 35053.2  9784.8 33400.8  8283.6\n",
      " 27212.4  6390.   3870.  19155.6 34617.6 16977.6 21628.8 25959.6 22525.2\n",
      "  4266.  14662.8 16066.8 19004.4 13143.6  7603.2 20732.4  4060.8 18385.2\n",
      " 32590.8  7714.8  4356.  11955.6 11516.4 20847.6 10216.8 18162.  35697.6\n",
      " 16549.2 29836.8 17643.6 10494.  24829.2  5893.2  4960.8 31791.6 31770.\n",
      "  9111.6 35971.2 22734.  19360.8  9514.8 14367.6  7884.  22626.  23727.6\n",
      " 16567.2 11998.8 13777.2 12416.4 30466.8 13287.6 31348.8 17971.2  9576.\n",
      "  9162.  24397.2 22935.6  5313.6 22320.  27133.2 27576.   6296.4 35056.8\n",
      " 26888.4 16678.8 20959.2 31071.6 24782.4 13053.6 16902.  15548.4 25696.8\n",
      " 24814.8 26139.6 19681.2 12441.6 31906.8 18932.4 31561.2  8960.4 34768.8\n",
      " 22543.2 21916.8 16052.4 15962.4 32256.  26046.   5691.6  5713.2 28357.2\n",
      "  6598.8 26881.2 17776.8 15289.2  7912.8 34977.6 18990.  20973.6 31921.2\n",
      " 22366.8 20905.2  3945.6 35841.6 33728.4 11610.  33166.8  9471.6 12391.2\n",
      " 26100.  28062.  10850.4 11685.6 29966.4 33224.4 22928.4 16484.4 35632.8\n",
      " 18460.8 25027.2 25203.6 12182.4  7981.2 26596.8  5580.   4442.4 26665.2\n",
      " 11775.6  9104.4  8290.8  9442.8  6580.8 34070.4 15570.  22831.2 18698.4\n",
      " 33530.4 32288.4  8978.4 21517.2 22554.  17132.4  6458.4 27979.2  8550.\n",
      " 21204.  23886.   9327.6 27021.6  8006.4 35424.  25466.4 12794.4  7754.4\n",
      "  4330.8 15847.2 25185.6  5522.4 35938.8 17161.2 34156.8 22492.8 13089.6\n",
      " 28216.8 21603.6 18428.4 25992.  14482.8 31964.4  9532.8 29487.6  5122.8\n",
      "  5598.   5493.6 22237.2  7747.2 35920.8 11844.  27727.2  8452.8 10242.\n",
      " 27504.  16074.  28054.8 25902.   9367.2 18608.4 29145.6 26359.2 23738.4\n",
      "  7740.  24152.4 34812.  29638.8 14738.4 27655.2 18813.6 28706.4 27900.\n",
      " 19537.2 24213.6  4964.4 20350.8  7549.2  9302.4 18334.8  9079.2 19141.2\n",
      " 32634.   8445.6 12236.4 32115.6  6876.  22899.6  9000.   7477.2 18482.4\n",
      " 14418.  15526.8 23198.4 23464.8 11973.6 13896.  13370.4 13374.   7077.6\n",
      " 18547.2  8704.8 15447.6 19540.8 35838.  12502.8 13478.4 29415.6 32907.6\n",
      " 35312.4  9154.8 31204.8 10195.2 35258.4 11044.8 10591.2 21942.  23781.6\n",
      "  6955.2 14997.6 26071.2 26823.6 29235.6 23666.4  3646.8 30927.6 23137.2\n",
      " 18615.6 18842.4 15501.6  5263.2 16408.8 27072.  18792.  25315.2 19314.\n",
      " 11019.6 10425.6 24282.  13939.2 35470.8 25804.8 32979.6 21913.2 19188.\n",
      "  4352.4 23108.4 28191.6 10422.   6969.6 26200.8  5648.4 31734.  10054.8\n",
      " 19962.  17506.8 20174.4 16372.8 26449.2  7732.8 22881.6 24156.  31453.2\n",
      "  9734.4 25048.8  9252.  29023.2 12844.8 25725.6  4298.4 16336.8 20160.\n",
      "  7092.  25786.8 13568.4  9820.8  6271.2 35024.4 34747.2  6786.  19940.4\n",
      " 22996.8  3848.4 19980.   4114.8 34113.6 11023.2 26848.8 21207.6 16707.6\n",
      " 33336.  16779.6  8816.4 17625.6 27889.2 33544.8 18082.8 14493.6 34254.\n",
      " 17503.2 12196.8 17164.8 14860.8 26719.2  3801.6 32868.  18856.8 13874.4\n",
      " 14209.2  7675.2 33760.8 26373.6 35676.  26676.  35452.8 34542.  10191.6\n",
      " 17146.8  4593.6 28652.4 23252.4  8935.2 32061.6  8384.4 32407.2 30002.4\n",
      " 31644.  27691.2 12614.4  9982.8  4150.8 28634.4 33523.2 35856.  34081.2\n",
      " 26798.4 32212.8 33152.4 23947.2 16444.8 18284.4  3628.8 33796.8 35517.6\n",
      "  7520.4 11988.  29163.6  5688.  28828.8 26877.6 20934.  35092.8 20361.6\n",
      " 20890.8 11462.4 23695.2 31802.4  5500.8 30740.4 26481.6 30974.4 35791.2\n",
      " 24523.2 19771.2 20199.6 35532.   5533.2 29746.8 32904.   5554.8 30952.8\n",
      "  8906.4 20062.8 12049.2 22363.2 27327.6 14994.  17654.4  7336.8 35708.4\n",
      "  6930.  28929.6 17607.6 29901.6 27547.2 17056.8 16149.6 32310.   4482.\n",
      " 17535.6 28278.   8305.2  9856.8 12232.8 29509.2 35355.6 29084.4  9727.2\n",
      " 20563.2 23007.6 11422.8 24674.4 29268.  32479.2 32328.  32580.  24696.\n",
      " 10947.6 16653.6 23810.4  5932.8 29149.2 15544.8 34408.8  7506.   8103.6\n",
      " 31248.  23133.6 13849.2 12351.6 25131.6 31608.  26744.4 15732.  14940.\n",
      " 25700.4 22107.6 23994.  10270.8 33573.6  4251.6  4514.4 31377.6 13341.6\n",
      "  6267.6 15919.2 33552.  12668.4  5180.4  5922.  12769.2  7855.2 34351.2\n",
      " 25556.4 13320.  26949.6 10026.  18691.2 10382.4 31899.6 35935.2 17499.6\n",
      " 24958.8 28126.8 35773.2  7588.8 26924.4 10681.2 15865.2  8254.8 14191.2\n",
      " 33933.6  5292.  17154.  34930.8 32130.  35748.  10886.4 13518.  34358.4\n",
      " 34009.2 35924.4 14846.4 29404.8 18475.2  5169.6 25239.6 15148.8 34376.4\n",
      " 34912.8  9579.6 26960.4 16837.2 19465.2 28972.8 14194.8 16639.2  5032.8\n",
      " 35204.4  8575.2 29343.6 34995.6  5860.8 15577.2 35726.4 29854.8  6134.4\n",
      " 14709.6  6278.4  4600.8  9957.6 16466.4 16765.2 12920.4 14587.2 26622.\n",
      "  8143.2 19638.  35582.4 30265.2 23749.2 11808.  13312.8  8265.6  4363.2\n",
      " 22759.2 32486.4 11484.  24984.   5742.  21020.4 18529.2 14180.4 25891.2\n",
      " 29941.2 22633.2  5871.6  6001.2 31492.8  6757.2  7995.6 35467.2 32112.\n",
      " 17758.8 26632.8 11437.2  9799.2 33472.8 21459.6 16750.8  8726.4 16797.6\n",
      " 13266.  29908.8 23396.4 27921.6 18680.4 17924.4 35629.2 29134.8 31647.6\n",
      " 15645.6 16632.  31878.  26107.2  4338.  25275.6  5576.4  6170.4 31356.\n",
      " 35568.  17175.6 12110.4 21222.  17755.2 26236.8 25268.4 19814.4 26416.8\n",
      " 18936.  35100.  21747.6 24832.8  5623.2 27190.8 27946.8  4986.  32626.8\n",
      " 13237.2 10260.  20005.2 35013.6 29502.  29232.  21153.6 20019.6 30538.8\n",
      " 11401.2 13831.2  3790.8 29242.8 30553.2 27381.6 30913.2 24476.4 23634.\n",
      " 23511.6  9090.   7848.  15843.6  3657.6 25880.4  3956.4 21769.2 24678.\n",
      " 31208.4 10872.  24260.4 22384.8 23389.2 16358.4  3661.2 23382.  20113.2\n",
      " 10519.2  5353.2  8056.8 19148.4 31057.2 12171.6 22615.2  8751.6 20340.\n",
      " 23493.6 18846.   3664.8  4388.4 30117.6 33296.4 21866.4 17017.2 30816.\n",
      " 16142.4 20995.2 30459.6 20206.8 12776.4 15426.  12884.4  4582.8 29930.4\n",
      " 12679.2 30006.  30859.2 28400.4 20624.4 30330.  12891.6  7574.4 18176.4\n",
      " 33112.8 34855.2 31006.8 21452.4 34693.2 29642.4 14526. ]\n",
      "\n",
      "\n",
      "Quantity:\n",
      "[ 3  4  6  2  1  5  9  8 10  7]\n",
      "\n",
      "\n",
      "Tax 5%:\n",
      "[ 2961.36  1042.56  1836.72 10121.76  1450.8   4750.92  1195.2    603.36\n",
      "  7952.4   8471.7  12647.34 12064.32  4337.28  1560.96  7464.96  6765.12\n",
      "  9183.78  3241.62  2044.44  1286.64   581.76  8921.34  5453.28 10541.88\n",
      "  2620.08  5220.72  8314.92 10426.32 15816.6   8931.6   3824.1    593.64\n",
      "  9177.84  1974.6    924.48  1923.84 16193.52  8131.68 14625.36  4992.12\n",
      "  2508.48  9444.6   9343.8  10347.84  6590.88  1299.06  4525.2  15749.64\n",
      " 10086.12  7182.    6130.08  7204.5   5712.12  2849.76   976.32 13606.56\n",
      "  3345.84  4160.16  2646.72  1839.6   4139.28  4662.    1599.3   1639.98\n",
      " 16156.26  8312.4   2506.68  3730.86  2229.3  13661.28  3096.36  4897.8\n",
      "  7822.08 11237.94  9795.6   2929.32   571.86 13622.58  5315.04  1189.8\n",
      " 13517.28  4395.6   9205.56  7541.1   2348.64  2757.6    980.1  13428.\n",
      "  6068.7  10768.68  6044.22  6001.2   6112.26  7254.    3259.8    702.18\n",
      "  2154.24  8632.44  7037.28  3681.36  3567.24  6258.6   6936.84  2596.86\n",
      "  7052.22  9689.4   2430.    6895.98  4374.    6418.08  1485.    1349.46\n",
      "  3308.76  2194.56  5731.56  1702.8   8972.1   1364.76  2295.72  6831.\n",
      "  2201.58  4434.48  3116.88  3577.5   4947.12  6157.8    787.32  1729.98\n",
      "  2059.92  3660.48  6578.82  1126.98  6054.3   2486.88 12038.04   853.92\n",
      " 12733.92   344.7    487.26   704.16  8068.68  2377.08  2660.4  12538.8\n",
      " 14290.2  13149.    3998.16 10450.08  6186.6  10868.4   3563.28  7396.2\n",
      " 12584.16  1249.2   3646.08  3596.04 10932.48  1766.34  1331.46  3359.16\n",
      "  1592.1   2619.    9077.4   5516.1  11433.24  4937.4   2468.34  2823.12\n",
      "  2154.96  9784.8   4131.    1331.28  1452.96  1281.6   2794.32  4638.6\n",
      "  3092.58  8798.22  9434.88  2023.92  2593.44  3495.96  6108.48  3573.\n",
      " 10062.36  7383.6   4800.6   2606.04 10245.06  4341.6   2502.36  1301.76\n",
      "  3405.24  5227.2    800.28  5887.08  2286.    2084.04  5033.88  7840.8\n",
      " 11918.34 14985.    1644.3   2839.68 14864.4   5383.8   4315.14 11964.6\n",
      "  1586.7   2830.68  5334.66  2004.12   605.34  6809.4   6027.48  6045.84\n",
      "  4332.96  2320.38  6345.    3117.96  1293.84  1462.32  3362.4   3964.14\n",
      "  3015.72  8074.08   710.64   626.58  2492.64  1767.6   2333.88  4477.68\n",
      "  1745.28  3558.6  13036.14 14319.18  9043.02  3096.    1887.84  3220.56\n",
      "  2382.48  1680.48 12553.2   6574.68  9560.88   966.96 13184.64 11741.4\n",
      "  1990.98  1607.04  6595.2   5146.56 13896.   12983.4  13746.24  1478.52\n",
      "  6886.08  6878.88  2597.4   1680.84 14234.94 17526.6    978.48  1670.04\n",
      "  2485.08 12245.58   319.5   1548.    7662.24  6923.52  4244.4   3808.08\n",
      "  7570.08 11681.82  4505.04  1706.4   5131.98  4820.04  1085.4   9502.2\n",
      "  5914.62  3041.28  6219.72  1827.36  6434.82 13036.32  3857.4    715.5\n",
      "  1742.4   5977.8   5758.2   8339.04  2554.2   5448.6  14279.04  3309.84\n",
      "  7459.2   8821.8   1574.1   3724.38  1418.04  1767.96   992.16  1589.58\n",
      " 14296.5    911.16 10791.36  6820.2    968.04  3805.92  2155.14  1182.6\n",
      "  7118.28  4970.16  1199.88  1377.72  3104.1  15233.4   4650.66 10972.08\n",
      "  1797.12  2872.8    458.1   1219.86  5733.9    531.36  8928.   10853.28\n",
      " 13788.    3148.2  17528.4   9410.94  5837.58  8383.68 10875.06  7434.72\n",
      "  1305.36  4225.5   7774.2  12848.4   8685.18  7841.88  2952.18  3110.4\n",
      "  4786.02  7572.96  3156.12  4032.18  3476.88  5635.8   9862.56  4013.1\n",
      "  1596.24 12902.4  13023.    2845.8   2856.6  14178.6    329.94 12096.54\n",
      "  6221.88   764.46  2769.48  1748.88  2848.5   6292.08 15960.6   6710.04\n",
      "  9407.34  1972.8  14336.64 11804.94  2902.5   9950.04  2367.9   3717.36\n",
      " 10440.    8418.6   5425.2   4674.24 13484.88  8306.1   1146.42  5769.54\n",
      " 17816.4   5538.24  8759.52  6300.9   5482.08  3192.48  7979.04  2790.\n",
      "  1554.84  1333.26  2943.9    455.22  4249.26   329.04  5110.56  1557.\n",
      "  9132.48  9349.2   3353.04  1614.42  4040.28  2151.72  4510.8   6852.96\n",
      "  1614.6   5595.84  1710.    8481.6   1194.3   2798.28  2322.   12159.72\n",
      "  4003.2  12398.4   5093.28  6397.2   3489.48   433.08  7923.6  10074.24\n",
      "   276.12 10781.64  3432.24 11954.88  1124.64  1308.96  8465.04  4320.72\n",
      "  3685.68  9097.2   5068.98 12785.76  1429.92  2948.76  1280.7   2519.1\n",
      "  1648.08  5559.3   2324.16  8980.2   2617.92  1776.6   6931.8    845.28\n",
      "  2560.5  12376.8   2411.1  12624.66  1295.1   3278.52  6512.94 11658.24\n",
      "  7907.76  4747.68  3483.    6038.1   8703.    5927.76  3684.6   5817.6\n",
      "  1382.76  9406.8   1435.32  6975.    4884.3   4842.72  1241.1   4070.16\n",
      "  1887.3   1395.36  7333.92  3177.72  6699.42 16317.    2533.68  3670.92\n",
      " 14452.02  2406.6   5724.9    450.    1495.44  4620.6   2883.6   7763.4\n",
      "  5799.6   3519.72  2993.4    694.8   3342.6   2674.8   3538.8   7418.88\n",
      "  3481.92  3861.9   6839.28 12543.3   1250.28  4043.52  8824.68  8226.9\n",
      " 15890.58  2746.44 12481.92  2548.8   1762.92  5259.6   1656.72  5295.6\n",
      "  9873.9   7134.48  2434.32  4499.28  3910.68  8047.08 14617.8  10649.88\n",
      "  1276.38  7731.9   4627.44  5592.96  3723.12  2826.36  3875.4   1315.8\n",
      "   820.44  4060.8   2818.8   2531.52  6759.9    550.98   521.28 12141.\n",
      "  6272.64 10641.24  3870.72  1648.98  2191.32  2878.2    217.62 11554.2\n",
      "  4228.74  3647.7   3136.32 13100.4    847.26  4760.1   2513.7    998.1\n",
      "  3501.36 10087.2   8186.4   5289.84  5238.     773.28 11440.8   3623.4\n",
      "  8753.4   7863.3   1946.88 11271.96  1387.8   8706.96  3211.2   9003.96\n",
      "   644.76  2450.52  3024.     354.6  15221.52  2578.68  1356.84  2455.2\n",
      "  3135.6  14009.76 10424.16  3393.    3988.08  9198.72   962.1   3996.\n",
      "  1234.44  6822.72   551.16  9397.08  7422.66   835.38 11667.6   1677.96\n",
      "  4408.2   7931.52  5577.84  3354.48  3616.56  7246.8   1712.7   7001.28\n",
      "  4878.72  1716.48  3710.34  1584.72  2229.12 13359.6   1520.64  1643.4\n",
      "   942.84  3468.6   2804.76  1420.92   383.76  5064.12  1318.68 10702.8\n",
      "  1333.8   3545.28  8635.5   2038.32  7716.06   459.36  4297.86  4650.48\n",
      "  3127.32  9618.48  1676.88 12962.88  3000.24  5743.08  1582.2  13224.6\n",
      " 13845.6   5676.48  2495.7   1452.78  2863.44 13409.28  7392.96  5378.4\n",
      "  6816.24  6418.44 13399.2   8053.2   4972.86  4789.44  8222.4   4571.1\n",
      "  1270.08 11828.88  5363.82 15982.92   752.04   279.    5394.6   4374.54\n",
      "   853.2   4324.32  5375.52  4186.8  15791.76  5090.4   2089.08   573.12\n",
      "  1184.76 11130.84  1375.2  10759.14 13240.8   7743.6   7158.24  1226.16\n",
      "  7908.48  2019.96 14212.8    553.32 14873.4  11516.4    277.74 12381.12\n",
      "  3305.88  1335.96  6018.84  1204.92 16106.4  11181.6   8198.28  7497.\n",
      "  7944.48 14095.8   1834.2  10712.52  2772.    5785.92  4401.9  10465.56\n",
      "  6886.8   3411.36  8074.8   1615.5   1344.6    876.78 12725.1   3737.34\n",
      "  2957.04  5504.76 14754.6   5303.34 13087.98  1459.08  7197.12  9203.04\n",
      "  5140.26  9869.76  8780.4   4871.88 16164.   16290.   12348.     547.38\n",
      "  4996.08  4762.08  4354.56  1779.84 11659.68  6217.92  2750.4  17204.4\n",
      "  3002.4   2836.26  4687.2   8096.76  5539.68  4940.64  5026.32 14223.6\n",
      "  1337.22  1573.2   2988.    6425.1   2068.2   7737.66 10797.3   5135.4\n",
      " 15108.12  1062.9    225.72  3137.76  2668.32  1566.9   3979.8   3355.2\n",
      "  6334.2    518.04  1184.4   2553.84   760.32  3927.6   6870.24 12778.2\n",
      "   666.    1347.48  3847.5   3509.1   4672.8   2076.48  1594.98  3593.52\n",
      "   874.98  2495.88 14063.4   3577.32  1138.32  6731.1   3738.42  3173.04\n",
      "  3714.66   709.56  6786.72  1323.    2573.1   8732.7  12852.   17874.\n",
      "   544.32  6759.   17179.2  13603.68  3592.44  2969.28  5880.96  8313.84\n",
      "  2584.8   7571.88  4544.64 12031.74  6982.56   957.96  5392.08  5051.16\n",
      "  8759.34  4345.92  4258.44  3327.84   251.64 12321.54  2143.8   3267.36\n",
      "  1467.18  2084.4   4538.7  17497.8    293.04  1557.72 16076.88  5970.96\n",
      "  1226.88  5883.84  1569.6    230.04  4978.8   2469.96  8382.6    646.02\n",
      "  3646.8   5324.4    407.16  9819.    4680.9    388.44  1779.12  9047.16\n",
      "  6053.04  9499.68  5904.    6656.4    413.28  2181.6   2275.92  9745.92\n",
      "   574.2   2498.4   1722.6   7357.14   926.46  3545.1   6472.8   8982.36\n",
      "  2263.32  2642.22  2100.42  9447.84  1365.84  2027.16  2398.68 17733.6\n",
      " 16056.    8879.4   9321.48  2287.44  1469.88  3347.28 10729.8   5025.24\n",
      "  3054.24  7558.92  3316.5   1169.82 13960.8   6538.14  3584.88 16033.14\n",
      "  1456.74  7911.9   4693.68   831.6  12751.2  10442.88  1084.5   7582.68\n",
      "   557.64  4453.2   1794.42  2159.64 15678.    3556.8   5152.68  4844.16\n",
      " 10611.    5326.56  2623.68 11370.78  6935.04  9245.88  8521.2  17550.\n",
      "  8699.04  1241.64  2249.28  5438.16 12576.06  2243.7  14682.06  4633.02\n",
      "  4104.    3000.78  7002.72 14751.   10231.2  10576.8   7006.86  1526.94\n",
      "  4560.48   691.56   947.7  10234.98  4582.98  4107.24 10819.62  8566.74\n",
      "   943.56  2363.4   8229.06  2272.5   3139.2   6337.44   914.4  10352.16\n",
      "   989.1   3265.38  4935.6   1095.66  7802.1   4348.8   8491.14 11192.4\n",
      "  5847.3   5725.44   183.06 11691.   10056.6   3155.76   535.32   402.84\n",
      " 11806.56  6701.94  1552.86  1825.74  2261.52  1312.74  1017.    9397.44\n",
      "   942.3   1465.92  1755.36  7529.4   8324.1   7653.24  5105.16 10785.6\n",
      "  7264.08  2099.52  5643.36 15229.8   4041.36  3832.92   771.3   5797.98\n",
      "   458.28 10475.64  3803.76  3000.6   4628.88  9940.14  6187.32 16170.84\n",
      "  3033.    3222.9   1514.88  8179.38  2844.    1655.64  5228.28  3100.68\n",
      "  4290.48 12594.96 12142.62 14821.2   1097.1    726.3 ]\n",
      "\n",
      "\n",
      "Total:\n",
      "[ 62188.56  21893.76  38571.12 212556.96  30466.8   99769.32  25099.2\n",
      "  12670.56 167000.4  177905.7  265594.14 253350.72  91082.88  32780.16\n",
      " 156764.16 142067.52 192859.38  68074.02  42933.24  27019.44  12216.96\n",
      " 187348.14 114518.88 221379.48  55021.68 109635.12 174613.32 218952.72\n",
      " 332148.6  187563.6   80306.1   12466.44 192734.64  41466.6   19414.08\n",
      "  40400.64 340063.92 170765.28 307132.56 104834.52  52678.08 198336.6\n",
      " 196219.8  217304.64 138408.48  27280.26  95029.2  330742.44 211808.52\n",
      " 150822.   128731.68 151294.5  119954.52  59844.96  20502.72 285737.76\n",
      "  70262.64  87363.36  55581.12  38631.6   86924.88  97902.    33585.3\n",
      "  34439.58 339281.46 174560.4   52640.28  78348.06  46815.3  286886.88\n",
      "  65023.56 102853.8  164263.68 235996.74 205707.6   61515.72  12009.06\n",
      " 286074.18 111615.84  24985.8  283862.88  92307.6  193316.76 158363.1\n",
      "  49321.44  57909.6   20582.1  281988.   127442.7  226142.28 126928.62\n",
      " 126025.2  128357.46 152334.    68455.8   14745.78  45239.04 181281.24\n",
      " 147782.88  77308.56  74912.04 131430.6  145673.64  54534.06 148096.62\n",
      " 203477.4   51030.   144815.58  91854.   134779.68  31185.    28338.66\n",
      "  69483.96  46085.76 120362.76  35758.8  188414.1   28659.96  48210.12\n",
      " 143451.    46233.18  93124.08  65454.48  75127.5  103889.52 129313.8\n",
      "  16533.72  36329.58  43258.32  76870.08 138155.22  23666.58 127140.3\n",
      "  52224.48 252798.84  17932.32 267412.32   7238.7   10232.46  14787.36\n",
      " 169442.28  49918.68  55868.4  263314.8  300094.2  276129.    83961.36\n",
      " 219451.68 129918.6  228236.4   74828.88 155320.2  264267.36  26233.2\n",
      "  76567.68  75516.84 229582.08  37093.14  27960.66  70542.36  33434.1\n",
      "  54999.   190625.4  115838.1  240098.04 103685.4   51835.14  59285.52\n",
      "  45254.16 205480.8   86751.    27956.88  30512.16  26913.6   58680.72\n",
      "  97410.6   64944.18 184762.62 198132.48  42502.32  54462.24  73415.16\n",
      " 128278.08  75033.   211309.56 155055.6  100812.6   54726.84 215146.26\n",
      "  91173.6   52549.56  27336.96  71510.04 109771.2   16805.88 123628.68\n",
      "  48006.    43764.84 105711.48 164656.8  250285.14 314685.    34530.3\n",
      "  59633.28 312152.4  113059.8   90617.94 251256.6   33320.7   59444.28\n",
      " 112027.86  42086.52  12712.14 142997.4  126577.08 126962.64  90992.16\n",
      "  48727.98 133245.    65477.16  27170.64  30708.72  70610.4   83246.94\n",
      "  63330.12 169555.68  14923.44  13158.18  52345.44  37119.6   49011.48\n",
      "  94031.28  36650.88  74730.6  273758.94 300702.78 189903.42  65016.\n",
      "  39644.64  67631.76  50032.08  35290.08 263617.2  138068.28 200778.48\n",
      "  20306.16 276877.44 246569.4   41810.58  33747.84 138499.2  108077.76\n",
      " 291816.   272651.4  288671.04  31048.92 144607.68 144456.48  54545.4\n",
      "  35297.64 298933.74 368058.6   20548.08  35070.84  52186.68 257157.18\n",
      "   6709.5   32508.   160907.04 145393.92  89132.4   79969.68 158971.68\n",
      " 245318.22  94605.84  35834.4  107771.58 101220.84  22793.4  199546.2\n",
      " 124207.02  63866.88 130614.12  38374.56 135131.22 273762.72  81005.4\n",
      "  15025.5   36590.4  125533.8  120922.2  175119.84  53638.2  114420.6\n",
      " 299859.84  69506.64 156643.2  185257.8   33056.1   78211.98  29778.84\n",
      "  37127.16  20835.36  33381.18 300226.5   19134.36 226618.56 143224.2\n",
      "  20328.84  79924.32  45257.94  24834.6  149483.88 104373.36  25197.48\n",
      "  28932.12  65186.1  319901.4   97663.86 230413.68  37739.52  60328.8\n",
      "   9620.1   25617.06 120411.9   11158.56 187488.   227918.88 289548.\n",
      "  66112.2  368096.4  197629.74 122589.18 176057.28 228376.26 156129.12\n",
      "  27412.56  88735.5  163258.2  269816.4  182388.78 164679.48  61995.78\n",
      "  65318.4  100506.42 159032.16  66278.52  84675.78  73014.48 118351.8\n",
      " 207113.76  84275.1   33521.04 270950.4  273483.    59761.8   59988.6\n",
      " 297750.6    6928.74 254027.34 130659.48  16053.66  58159.08  36726.48\n",
      "  59818.5  132133.68 335172.6  140910.84 197554.14  41428.8  301069.44\n",
      " 247903.74  60952.5  208950.84  49725.9   78064.56 219240.   176790.6\n",
      " 113929.2   98159.04 283182.48 174428.1   24074.82 121160.34 374144.4\n",
      " 116303.04 183949.92 132318.9  115123.68  67042.08 167559.84  58590.\n",
      "  32651.64  27998.46  61821.9    9559.62  89234.46   6909.84 107321.76\n",
      "  32697.   191782.08 196333.2   70413.84  33902.82  84845.88  45186.12\n",
      "  94726.8  143912.16  33906.6  117512.64  35910.   178113.6   25080.3\n",
      "  58763.88  48762.   255354.12  84067.2  260366.4  106958.88 134341.2\n",
      "  73279.08   9094.68 166395.6  211559.04   5798.52 226414.44  72077.04\n",
      " 251052.48  23617.44  27488.16 177765.84  90735.12  77399.28 191041.2\n",
      " 106448.58 268500.96  30028.32  61923.96  26894.7   52901.1   34609.68\n",
      " 116745.3   48807.36 188584.2   54976.32  37308.6  145567.8   17750.88\n",
      "  53770.5  259912.8   50633.1  265117.86  27197.1   68848.92 136771.74\n",
      " 244823.04 166062.96  99701.28  73143.   126800.1  182763.   124482.96\n",
      "  77376.6  122169.6   29037.96 197542.8   30141.72 146475.   102570.3\n",
      " 101697.12  26063.1   85473.36  39633.3   29302.56 154012.32  66732.12\n",
      " 140687.82 342657.    53207.28  77089.32 303492.42  50538.6  120222.9\n",
      "   9450.    31404.24  97032.6   60555.6  163031.4  121791.6   73914.12\n",
      "  62861.4   14590.8   70194.6   56170.8   74314.8  155796.48  73120.32\n",
      "  81099.9  143624.88 263409.3   26255.88  84913.92 185318.28 172764.9\n",
      " 333702.18  57675.24 262120.32  53524.8   37021.32 110451.6   34791.12\n",
      " 111207.6  207351.9  149824.08  51120.72  94484.88  82124.28 168988.68\n",
      " 306973.8  223647.48  26803.98 162369.9   97176.24 117452.16  78185.52\n",
      "  59353.56  81383.4   27631.8   17229.24  85276.8   59194.8   53161.92\n",
      " 141957.9   11570.58  10946.88 254961.   131725.44 223466.04  81285.12\n",
      "  34628.58  46017.72  60442.2    4570.02 242638.2   88803.54  76601.7\n",
      "  65862.72 275108.4   17792.46  99962.1   52787.7   20960.1   73528.56\n",
      " 211831.2  171914.4  111086.64 109998.    16238.88 240256.8   76091.4\n",
      " 183821.4  165129.3   40884.48 236711.16  29143.8  182846.16  67435.2\n",
      " 189083.16  13539.96  51460.92  63504.     7446.6  319651.92  54152.28\n",
      "  28493.64  51559.2   65847.6  294204.96 218907.36  71253.    83749.68\n",
      " 193173.12  20204.1   83916.    25923.24 143277.12  11574.36 197338.68\n",
      " 155875.86  17542.98 245019.6   35237.16  92572.2  166561.92 117134.64\n",
      "  70444.08  75947.76 152182.8   35966.7  147026.88 102453.12  36046.08\n",
      "  77917.14  33279.12  46811.52 280551.6   31933.44  34511.4   19799.64\n",
      "  72840.6   58899.96  29839.32   8058.96 106346.52  27692.28 224758.8\n",
      "  28009.8   74450.88 181345.5   42804.72 162037.26   9646.56  90255.06\n",
      "  97660.08  65673.72 201988.08  35214.48 272220.48  63005.04 120604.68\n",
      "  33226.2  277716.6  290757.6  119206.08  52409.7   30508.38  60132.24\n",
      " 281594.88 155252.16 112946.4  143141.04 134787.24 281383.2  169117.2\n",
      " 104430.06 100578.24 172670.4   95993.1   26671.68 248406.48 112640.22\n",
      " 335641.32  15792.84   5859.   113286.6   91865.34  17917.2   90810.72\n",
      " 112885.92  87922.8  331626.96 106898.4   43870.68  12035.52  24879.96\n",
      " 233747.64  28879.2  225941.94 278056.8  162615.6  150323.04  25749.36\n",
      " 166078.08  42419.16 298468.8   11619.72 312341.4  241844.4    5832.54\n",
      " 260003.52  69423.48  28055.16 126395.64  25303.32 338234.4  234813.6\n",
      " 172163.88 157437.   166834.08 296011.8   38518.2  224962.92  58212.\n",
      " 121504.32  92439.9  219776.76 144622.8   71638.56 169570.8   33925.5\n",
      "  28236.6   18412.38 267227.1   78484.14  62097.84 115599.96 309846.6\n",
      " 111370.14 274847.58  30640.68 151139.52 193263.84 107945.46 207264.96\n",
      " 184388.4  102309.48 339444.   342090.   259308.    11494.98 104917.68\n",
      " 100003.68  91445.76  37376.64 244853.28 130576.32  57758.4  361292.4\n",
      "  63050.4   59561.46  98431.2  170031.96 116333.28 103753.44 105552.72\n",
      " 298695.6   28081.62  33037.2   62748.   134927.1   43432.2  162490.86\n",
      " 226743.3  107843.4  317270.52  22320.9    4740.12  65892.96  56034.72\n",
      "  32904.9   83575.8   70459.2  133018.2   10878.84  24872.4   53630.64\n",
      "  15966.72  82479.6  144275.04 268342.2   13986.    28297.08  80797.5\n",
      "  73691.1   98128.8   43606.08  33494.58  75463.92  18374.58  52413.48\n",
      " 295331.4   75123.72  23904.72 141353.1   78506.82  66633.84  78007.86\n",
      "  14900.76 142521.12  27783.    54035.1  183386.7  269892.   375354.\n",
      "  11430.72 141939.   360763.2  285677.28  75441.24  62354.88 123500.16\n",
      " 174590.64  54280.8  159009.48  95437.44 252666.54 146633.76  20117.16\n",
      " 113233.68 106074.36 183946.14  91264.32  89427.24  69884.64   5284.44\n",
      " 258752.34  45019.8   68614.56  30810.78  43772.4   95312.7  367453.8\n",
      "   6153.84  32712.12 337614.48 125390.16  25764.48 123560.64  32961.6\n",
      "   4830.84 104554.8   51869.16 176034.6   13566.42  76582.8  111812.4\n",
      "   8550.36 206199.    98298.9    8157.24  37361.52 189990.36 127113.84\n",
      " 199493.28 123984.   139784.4    8678.88  45813.6   47794.32 204664.32\n",
      "  12058.2   52466.4   36174.6  154499.94  19455.66  74447.1  135928.8\n",
      " 188629.56  47529.72  55486.62  44108.82 198404.64  28682.64  42570.36\n",
      "  50372.28 372405.6  337176.   186467.4  195751.08  48036.24  30867.48\n",
      "  70292.88 225325.8  105530.04  64139.04 158737.32  69646.5   24566.22\n",
      " 293176.8  137300.94  75282.48 336695.94  30591.54 166149.9   98567.28\n",
      "  17463.6  267775.2  219300.48  22774.5  159236.28  11710.44  93517.2\n",
      "  37682.82  45352.44 329238.    74692.8  108206.28 101727.36 222831.\n",
      " 111857.76  55097.28 238786.38 145635.84 194163.48 178945.2  368550.\n",
      " 182679.84  26074.44  47234.88 114201.36 264097.26  47117.7  308323.26\n",
      "  97293.42  86184.    63016.38 147057.12 309771.   214855.2  222112.8\n",
      " 147144.06  32065.74  95770.08  14522.76  19901.7  214934.58  96242.58\n",
      "  86252.04 227212.02 179901.54  19814.76  49631.4  172810.26  47722.5\n",
      "  65923.2  133086.24  19202.4  217395.36  20771.1   68572.98 103647.6\n",
      "  23008.86 163844.1   91324.8  178313.94 235040.4  122793.3  120234.24\n",
      "   3844.26 245511.   211188.6   66270.96  11241.72   8459.64 247937.76\n",
      " 140740.74  32610.06  38340.54  47491.92  27567.54  21357.   197346.24\n",
      "  19788.3   30784.32  36862.56 158117.4  174806.1  160718.04 107208.36\n",
      " 226497.6  152545.68  44089.92 118510.56 319825.8   84868.56  80491.32\n",
      "  16197.3  121757.58   9623.88 219988.44  79878.96  63012.6   97206.48\n",
      " 208742.94 129933.72 339587.64  63693.    67680.9   31812.48 171766.98\n",
      "  59724.    34768.44 109793.88  65114.28  90100.08 264494.16 254995.02\n",
      " 311245.2   23039.1   15252.3 ]\n",
      "\n",
      "\n",
      "Date:\n",
      "['2019-02-20T00:00:00.000000000']\n",
      "\n",
      "\n",
      "Time:\n",
      "['2022-02-12T13:27:00.000000000']\n",
      "\n",
      "\n",
      "Payment:\n",
      "['Card' 'Epay' 'Cash']\n",
      "\n",
      "\n",
      "cogs:\n"
     ]
    },
    {
     "name": "stdout",
     "output_type": "stream",
     "text": [
      "[ 59227.2  20851.2  36734.4 202435.2  29016.   95018.4  23904.   12067.2\n",
      " 159048.  169434.  252946.8 241286.4  86745.6  31219.2 149299.2 135302.4\n",
      " 183675.6  64832.4  40888.8  25732.8  11635.2 178426.8 109065.6 210837.6\n",
      "  52401.6 104414.4 166298.4 208526.4 316332.  178632.   76482.   11872.8\n",
      " 183556.8  39492.   18489.6  38476.8 323870.4 162633.6 292507.2  99842.4\n",
      "  50169.6 188892.  186876.  206956.8 131817.6  25981.2  90504.  314992.8\n",
      " 201722.4 143640.  122601.6 144090.  114242.4  56995.2  19526.4 272131.2\n",
      "  66916.8  83203.2  52934.4  36792.   82785.6  93240.   31986.   32799.6\n",
      " 323125.2 166248.   50133.6  74617.2  44586.  273225.6  61927.2  97956.\n",
      " 156441.6 224758.8 195912.   58586.4  11437.2 272451.6 106300.8  23796.\n",
      " 270345.6  87912.  184111.2 150822.   46972.8  55152.   19602.  268560.\n",
      " 121374.  215373.6 120884.4 120024.  122245.2 145080.   65196.   14043.6\n",
      "  43084.8 172648.8 140745.6  73627.2  71344.8 125172.  138736.8  51937.2\n",
      " 141044.4 193788.   48600.  137919.6  87480.  128361.6  29700.   26989.2\n",
      "  66175.2  43891.2 114631.2  34056.  179442.   27295.2  45914.4 136620.\n",
      "  44031.6  88689.6  62337.6  71550.   98942.4 123156.   15746.4  34599.6\n",
      "  41198.4  73209.6 131576.4  22539.6 121086.   49737.6 240760.8  17078.4\n",
      " 254678.4   6894.    9745.2  14083.2 161373.6  47541.6  53208.  250776.\n",
      " 285804.  262980.   79963.2 209001.6 123732.  217368.   71265.6 147924.\n",
      " 251683.2  24984.   72921.6  71920.8 218649.6  35326.8  26629.2  67183.2\n",
      "  31842.   52380.  181548.  110322.  228664.8  98748.   49366.8  56462.4\n",
      "  43099.2 195696.   82620.   26625.6  29059.2  25632.   55886.4  92772.\n",
      "  61851.6 175964.4 188697.6  40478.4  51868.8  69919.2 122169.6  71460.\n",
      " 201247.2 147672.   96012.   52120.8 204901.2  86832.   50047.2  26035.2\n",
      "  68104.8 104544.   16005.6 117741.6  45720.   41680.8 100677.6 156816.\n",
      " 238366.8 299700.   32886.   56793.6 297288.  107676.   86302.8 239292.\n",
      "  31734.   56613.6 106693.2  40082.4  12106.8 136188.  120549.6 120916.8\n",
      "  86659.2  46407.6 126900.   62359.2  25876.8  29246.4  67248.   79282.8\n",
      "  60314.4 161481.6  14212.8  12531.6  49852.8  35352.   46677.6  89553.6\n",
      "  34905.6  71172.  260722.8 286383.6 180860.4  61920.   37756.8  64411.2\n",
      "  47649.6  33609.6 251064.  131493.6 191217.6  19339.2 263692.8 234828.\n",
      "  39819.6  32140.8 131904.  102931.2 277920.  259668.  274924.8  29570.4\n",
      " 137721.6 137577.6  51948.   33616.8 284698.8 350532.   19569.6  33400.8\n",
      "  49701.6 244911.6   6390.   30960.  153244.8 138470.4  84888.   76161.6\n",
      " 151401.6 233636.4  90100.8  34128.  102639.6  96400.8  21708.  190044.\n",
      " 118292.4  60825.6 124394.4  36547.2 128696.4 260726.4  77148.   14310.\n",
      "  34848.  119556.  115164.  166780.8  51084.  108972.  285580.8  66196.8\n",
      " 149184.  176436.   31482.   74487.6  28360.8  35359.2  19843.2  31791.6\n",
      " 285930.   18223.2 215827.2 136404.   19360.8  76118.4  43102.8  23652.\n",
      " 142365.6  99403.2  23997.6  27554.4  62082.  304668.   93013.2 219441.6\n",
      "  35942.4  57456.    9162.   24397.2 114678.   10627.2 178560.  217065.6\n",
      " 275760.   62964.  350568.  188218.8 116751.6 167673.6 217501.2 148694.4\n",
      "  26107.2  84510.  155484.  256968.  173703.6 156837.6  59043.6  62208.\n",
      "  95720.4 151459.2  63122.4  80643.6  69537.6 112716.  197251.2  80262.\n",
      "  31924.8 258048.  260460.   56916.   57132.  283572.    6598.8 241930.8\n",
      " 124437.6  15289.2  55389.6  34977.6  56970.  125841.6 319212.  134200.8\n",
      " 188146.8  39456.  286732.8 236098.8  58050.  199000.8  47358.   74347.2\n",
      " 208800.  168372.  108504.   93484.8 269697.6 166122.   22928.4 115390.8\n",
      " 356328.  110764.8 175190.4 126018.  109641.6  63849.6 159580.8  55800.\n",
      "  31096.8  26665.2  58878.    9104.4  84985.2   6580.8 102211.2  31140.\n",
      " 182649.6 186984.   67060.8  32288.4  80805.6  43034.4  90216.  137059.2\n",
      "  32292.  111916.8  34200.  169632.   23886.   55965.6  46440.  243194.4\n",
      "  80064.  247968.  101865.6 127944.   69789.6   8661.6 158472.  201484.8\n",
      "   5522.4 215632.8  68644.8 239097.6  22492.8  26179.2 169300.8  86414.4\n",
      "  73713.6 181944.  101379.6 255715.2  28598.4  58975.2  25614.   50382.\n",
      "  32961.6 111186.   46483.2 179604.   52358.4  35532.  138636.   16905.6\n",
      "  51210.  247536.   48222.  252493.2  25902.   65570.4 130258.8 233164.8\n",
      " 158155.2  94953.6  69660.  120762.  174060.  118555.2  73692.  116352.\n",
      "  27655.2 188136.   28706.4 139500.   97686.   96854.4  24822.   81403.2\n",
      "  37746.   27907.2 146678.4  63554.4 133988.4 326340.   50673.6  73418.4\n",
      " 289040.4  48132.  114498.    9000.   29908.8  92412.   57672.  155268.\n",
      " 115992.   70394.4  59868.   13896.   66852.   53496.   70776.  148377.6\n",
      "  69638.4  77238.  136785.6 250866.   25005.6  80870.4 176493.6 164538.\n",
      " 317811.6  54928.8 249638.4  50976.   35258.4 105192.   33134.4 105912.\n",
      " 197478.  142689.6  48686.4  89985.6  78213.6 160941.6 292356.  212997.6\n",
      "  25527.6 154638.   92548.8 111859.2  74462.4  56527.2  77508.   26316.\n",
      "  16408.8  81216.   56376.   50630.4 135198.   11019.6  10425.6 242820.\n",
      " 125452.8 212824.8  77414.4  32979.6  43826.4  57564.    4352.4 231084.\n",
      "  84574.8  72954.   62726.4 262008.   16945.2  95202.   50274.   19962.\n",
      "  70027.2 201744.  163728.  105796.8 104760.   15465.6 228816.   72468.\n",
      " 175068.  157266.   38937.6 225439.2  27756.  174139.2  64224.  180079.2\n",
      "  12895.2  49010.4  60480.    7092.  304430.4  51573.6  27136.8  49104.\n",
      "  62712.  280195.2 208483.2  67860.   79761.6 183974.4  19242.   79920.\n",
      "  24688.8 136454.4  11023.2 187941.6 148453.2  16707.6 233352.   33559.2\n",
      "  88164.  158630.4 111556.8  67089.6  72331.2 144936.   34254.  140025.6\n",
      "  97574.4  34329.6  74206.8  31694.4  44582.4 267192.   30412.8  32868.\n",
      "  18856.8  69372.   56095.2  28418.4   7675.2 101282.4  26373.6 214056.\n",
      "  26676.   70905.6 172710.   40766.4 154321.2   9187.2  85957.2  93009.6\n",
      "  62546.4 192369.6  33537.6 259257.6  60004.8 114861.6  31644.  264492.\n",
      " 276912.  113529.6  49914.   29055.6  57268.8 268185.6 147859.2 107568.\n",
      " 136324.8 128368.8 267984.  161064.   99457.2  95788.8 164448.   91422.\n",
      "  25401.6 236577.6 107276.4 319658.4  15040.8   5580.  107892.   87490.8\n",
      "  17064.   86486.4 107510.4  83736.  315835.2 101808.   41781.6  11462.4\n",
      "  23695.2 222616.8  27504.  215182.8 264816.  154872.  143164.8  24523.2\n",
      " 158169.6  40399.2 284256.   11066.4 297468.  230328.    5554.8 247622.4\n",
      "  66117.6  26719.2 120376.8  24098.4 322128.  223632.  163965.6 149940.\n",
      " 158889.6 281916.   36684.  214250.4  55440.  115718.4  88038.  209311.2\n",
      " 137736.   68227.2 161496.   32310.   26892.   17535.6 254502.   74746.8\n",
      "  59140.8 110095.2 295092.  106066.8 261759.6  29181.6 143942.4 184060.8\n",
      " 102805.2 197395.2 175608.   97437.6 323280.  325800.  246960.   10947.6\n",
      "  99921.6  95241.6  87091.2  35596.8 233193.6 124358.4  55008.  344088.\n",
      "  60048.   56725.2  93744.  161935.2 110793.6  98812.8 100526.4 284472.\n",
      "  26744.4  31464.   59760.  128502.   41364.  154753.2 215946.  102708.\n",
      " 302162.4  21258.    4514.4  62755.2  53366.4  31338.   79596.   67104.\n",
      " 126684.   10360.8  23688.   51076.8  15206.4  78552.  137404.8 255564.\n",
      "  13320.   26949.6  76950.   70182.   93456.   41529.6  31899.6  71870.4\n",
      "  17499.6  49917.6 281268.   71546.4  22766.4 134622.   74768.4  63460.8\n",
      "  74293.2  14191.2 135734.4  26460.   51462.  174654.  257040.  357480.\n",
      "  10886.4 135180.  343584.  272073.6  71848.8  59385.6 117619.2 166276.8\n",
      "  51696.  151437.6  90892.8 240634.8 139651.2  19159.2 107841.6 101023.2\n",
      " 175186.8  86918.4  85168.8  66556.8   5032.8 246430.8  42876.   65347.2\n",
      "  29343.6  41688.   90774.  349956.    5860.8  31154.4 321537.6 119419.2\n",
      "  24537.6 117676.8  31392.    4600.8  99576.   49399.2 167652.   12920.4\n",
      "  72936.  106488.    8143.2 196380.   93618.    7768.8  35582.4 180943.2\n",
      " 121060.8 189993.6 118080.  133128.    8265.6  43632.   45518.4 194918.4\n",
      "  11484.   49968.   34452.  147142.8  18529.2  70902.  129456.  179647.2\n",
      "  45266.4  52844.4  42008.4 188956.8  27316.8  40543.2  47973.6 354672.\n",
      " 321120.  177588.  186429.6  45748.8  29397.6  66945.6 214596.  100504.8\n",
      "  61084.8 151178.4  66330.   23396.4 279216.  130762.8  71697.6 320662.8\n",
      "  29134.8 158238.   93873.6  16632.  255024.  208857.6  21690.  151653.6\n",
      "  11152.8  89064.   35888.4  43192.8 313560.   71136.  103053.6  96883.2\n",
      " 212220.  106531.2  52473.6 227415.6 138700.8 184917.6 170424.  351000.\n",
      " 173980.8  24832.8  44985.6 108763.2 251521.2  44874.  293641.2  92660.4\n",
      "  82080.   60015.6 140054.4 295020.  204624.  211536.  140137.2  30538.8\n",
      "  91209.6  13831.2  18954.  204699.6  91659.6  82144.8 216392.4 171334.8\n",
      "  18871.2  47268.  164581.2  45450.   62784.  126748.8  18288.  207043.2\n",
      "  19782.   65307.6  98712.   21913.2 156042.   86976.  169822.8 223848.\n",
      " 116946.  114508.8   3661.2 233820.  201132.   63115.2  10706.4   8056.8\n",
      " 236131.2 134038.8  31057.2  36514.8  45230.4  26254.8  20340.  187948.8\n",
      "  18846.   29318.4  35107.2 150588.  166482.  153064.8 102103.2 215712.\n",
      " 145281.6  41990.4 112867.2 304596.   80827.2  76658.4  15426.  115959.6\n",
      "   9165.6 209512.8  76075.2  60012.   92577.6 198802.8 123746.4 323416.8\n",
      "  60660.   64458.   30297.6 163587.6  56880.   33112.8 104565.6  62013.6\n",
      "  85809.6 251899.2 242852.4 296424.   21942.   14526. ]\n",
      "\n",
      "\n",
      "gross margin percentage:\n",
      "[4.76190476]\n",
      "\n",
      "\n",
      "gross income:\n",
      "[ 2961.36  1042.56  1836.72 10121.76  1450.8   4750.92  1195.2    603.36\n",
      "  7952.4   8471.7  12647.34 12064.32  4337.28  1560.96  7464.96  6765.12\n",
      "  9183.78  3241.62  2044.44  1286.64   581.76  8921.34  5453.28 10541.88\n",
      "  2620.08  5220.72  8314.92 10426.32 15816.6   8931.6   3824.1    593.64\n",
      "  9177.84  1974.6    924.48  1923.84 16193.52  8131.68 14625.36  4992.12\n",
      "  2508.48  9444.6   9343.8  10347.84  6590.88  1299.06  4525.2  15749.64\n",
      " 10086.12  7182.    6130.08  7204.5   5712.12  2849.76   976.32 13606.56\n",
      "  3345.84  4160.16  2646.72  1839.6   4139.28  4662.    1599.3   1639.98\n",
      " 16156.26  8312.4   2506.68  3730.86  2229.3  13661.28  3096.36  4897.8\n",
      "  7822.08 11237.94  9795.6   2929.32   571.86 13622.58  5315.04  1189.8\n",
      " 13517.28  4395.6   9205.56  7541.1   2348.64  2757.6    980.1  13428.\n",
      "  6068.7  10768.68  6044.22  6001.2   6112.26  7254.    3259.8    702.18\n",
      "  2154.24  8632.44  7037.28  3681.36  3567.24  6258.6   6936.84  2596.86\n",
      "  7052.22  9689.4   2430.    6895.98  4374.    6418.08  1485.    1349.46\n",
      "  3308.76  2194.56  5731.56  1702.8   8972.1   1364.76  2295.72  6831.\n",
      "  2201.58  4434.48  3116.88  3577.5   4947.12  6157.8    787.32  1729.98\n",
      "  2059.92  3660.48  6578.82  1126.98  6054.3   2486.88 12038.04   853.92\n",
      " 12733.92   344.7    487.26   704.16  8068.68  2377.08  2660.4  12538.8\n",
      " 14290.2  13149.    3998.16 10450.08  6186.6  10868.4   3563.28  7396.2\n",
      " 12584.16  1249.2   3646.08  3596.04 10932.48  1766.34  1331.46  3359.16\n",
      "  1592.1   2619.    9077.4   5516.1  11433.24  4937.4   2468.34  2823.12\n",
      "  2154.96  9784.8   4131.    1331.28  1452.96  1281.6   2794.32  4638.6\n",
      "  3092.58  8798.22  9434.88  2023.92  2593.44  3495.96  6108.48  3573.\n",
      " 10062.36  7383.6   4800.6   2606.04 10245.06  4341.6   2502.36  1301.76\n",
      "  3405.24  5227.2    800.28  5887.08  2286.    2084.04  5033.88  7840.8\n",
      " 11918.34 14985.    1644.3   2839.68 14864.4   5383.8   4315.14 11964.6\n",
      "  1586.7   2830.68  5334.66  2004.12   605.34  6809.4   6027.48  6045.84\n",
      "  4332.96  2320.38  6345.    3117.96  1293.84  1462.32  3362.4   3964.14\n",
      "  3015.72  8074.08   710.64   626.58  2492.64  1767.6   2333.88  4477.68\n",
      "  1745.28  3558.6  13036.14 14319.18  9043.02  3096.    1887.84  3220.56\n",
      "  2382.48  1680.48 12553.2   6574.68  9560.88   966.96 13184.64 11741.4\n",
      "  1990.98  1607.04  6595.2   5146.56 13896.   12983.4  13746.24  1478.52\n",
      "  6886.08  6878.88  2597.4   1680.84 14234.94 17526.6    978.48  1670.04\n",
      "  2485.08 12245.58   319.5   1548.    7662.24  6923.52  4244.4   3808.08\n",
      "  7570.08 11681.82  4505.04  1706.4   5131.98  4820.04  1085.4   9502.2\n",
      "  5914.62  3041.28  6219.72  1827.36  6434.82 13036.32  3857.4    715.5\n",
      "  1742.4   5977.8   5758.2   8339.04  2554.2   5448.6  14279.04  3309.84\n",
      "  7459.2   8821.8   1574.1   3724.38  1418.04  1767.96   992.16  1589.58\n",
      " 14296.5    911.16 10791.36  6820.2    968.04  3805.92  2155.14  1182.6\n",
      "  7118.28  4970.16  1199.88  1377.72  3104.1  15233.4   4650.66 10972.08\n",
      "  1797.12  2872.8    458.1   1219.86  5733.9    531.36  8928.   10853.28\n",
      " 13788.    3148.2  17528.4   9410.94  5837.58  8383.68 10875.06  7434.72\n",
      "  1305.36  4225.5   7774.2  12848.4   8685.18  7841.88  2952.18  3110.4\n",
      "  4786.02  7572.96  3156.12  4032.18  3476.88  5635.8   9862.56  4013.1\n",
      "  1596.24 12902.4  13023.    2845.8   2856.6  14178.6    329.94 12096.54\n",
      "  6221.88   764.46  2769.48  1748.88  2848.5   6292.08 15960.6   6710.04\n",
      "  9407.34  1972.8  14336.64 11804.94  2902.5   9950.04  2367.9   3717.36\n",
      " 10440.    8418.6   5425.2   4674.24 13484.88  8306.1   1146.42  5769.54\n",
      " 17816.4   5538.24  8759.52  6300.9   5482.08  3192.48  7979.04  2790.\n",
      "  1554.84  1333.26  2943.9    455.22  4249.26   329.04  5110.56  1557.\n",
      "  9132.48  9349.2   3353.04  1614.42  4040.28  2151.72  4510.8   6852.96\n",
      "  1614.6   5595.84  1710.    8481.6   1194.3   2798.28  2322.   12159.72\n",
      "  4003.2  12398.4   5093.28  6397.2   3489.48   433.08  7923.6  10074.24\n",
      "   276.12 10781.64  3432.24 11954.88  1124.64  1308.96  8465.04  4320.72\n",
      "  3685.68  9097.2   5068.98 12785.76  1429.92  2948.76  1280.7   2519.1\n",
      "  1648.08  5559.3   2324.16  8980.2   2617.92  1776.6   6931.8    845.28\n",
      "  2560.5  12376.8   2411.1  12624.66  1295.1   3278.52  6512.94 11658.24\n",
      "  7907.76  4747.68  3483.    6038.1   8703.    5927.76  3684.6   5817.6\n",
      "  1382.76  9406.8   1435.32  6975.    4884.3   4842.72  1241.1   4070.16\n",
      "  1887.3   1395.36  7333.92  3177.72  6699.42 16317.    2533.68  3670.92\n",
      " 14452.02  2406.6   5724.9    450.    1495.44  4620.6   2883.6   7763.4\n",
      "  5799.6   3519.72  2993.4    694.8   3342.6   2674.8   3538.8   7418.88\n",
      "  3481.92  3861.9   6839.28 12543.3   1250.28  4043.52  8824.68  8226.9\n",
      " 15890.58  2746.44 12481.92  2548.8   1762.92  5259.6   1656.72  5295.6\n",
      "  9873.9   7134.48  2434.32  4499.28  3910.68  8047.08 14617.8  10649.88\n",
      "  1276.38  7731.9   4627.44  5592.96  3723.12  2826.36  3875.4   1315.8\n",
      "   820.44  4060.8   2818.8   2531.52  6759.9    550.98   521.28 12141.\n",
      "  6272.64 10641.24  3870.72  1648.98  2191.32  2878.2    217.62 11554.2\n",
      "  4228.74  3647.7   3136.32 13100.4    847.26  4760.1   2513.7    998.1\n",
      "  3501.36 10087.2   8186.4   5289.84  5238.     773.28 11440.8   3623.4\n",
      "  8753.4   7863.3   1946.88 11271.96  1387.8   8706.96  3211.2   9003.96\n",
      "   644.76  2450.52  3024.     354.6  15221.52  2578.68  1356.84  2455.2\n",
      "  3135.6  14009.76 10424.16  3393.    3988.08  9198.72   962.1   3996.\n",
      "  1234.44  6822.72   551.16  9397.08  7422.66   835.38 11667.6   1677.96\n",
      "  4408.2   7931.52  5577.84  3354.48  3616.56  7246.8   1712.7   7001.28\n",
      "  4878.72  1716.48  3710.34  1584.72  2229.12 13359.6   1520.64  1643.4\n",
      "   942.84  3468.6   2804.76  1420.92   383.76  5064.12  1318.68 10702.8\n",
      "  1333.8   3545.28  8635.5   2038.32  7716.06   459.36  4297.86  4650.48\n",
      "  3127.32  9618.48  1676.88 12962.88  3000.24  5743.08  1582.2  13224.6\n",
      " 13845.6   5676.48  2495.7   1452.78  2863.44 13409.28  7392.96  5378.4\n",
      "  6816.24  6418.44 13399.2   8053.2   4972.86  4789.44  8222.4   4571.1\n",
      "  1270.08 11828.88  5363.82 15982.92   752.04   279.    5394.6   4374.54\n",
      "   853.2   4324.32  5375.52  4186.8  15791.76  5090.4   2089.08   573.12\n",
      "  1184.76 11130.84  1375.2  10759.14 13240.8   7743.6   7158.24  1226.16\n",
      "  7908.48  2019.96 14212.8    553.32 14873.4  11516.4    277.74 12381.12\n",
      "  3305.88  1335.96  6018.84  1204.92 16106.4  11181.6   8198.28  7497.\n",
      "  7944.48 14095.8   1834.2  10712.52  2772.    5785.92  4401.9  10465.56\n",
      "  6886.8   3411.36  8074.8   1615.5   1344.6    876.78 12725.1   3737.34\n",
      "  2957.04  5504.76 14754.6   5303.34 13087.98  1459.08  7197.12  9203.04\n",
      "  5140.26  9869.76  8780.4   4871.88 16164.   16290.   12348.     547.38\n",
      "  4996.08  4762.08  4354.56  1779.84 11659.68  6217.92  2750.4  17204.4\n",
      "  3002.4   2836.26  4687.2   8096.76  5539.68  4940.64  5026.32 14223.6\n",
      "  1337.22  1573.2   2988.    6425.1   2068.2   7737.66 10797.3   5135.4\n",
      " 15108.12  1062.9    225.72  3137.76  2668.32  1566.9   3979.8   3355.2\n",
      "  6334.2    518.04  1184.4   2553.84   760.32  3927.6   6870.24 12778.2\n",
      "   666.    1347.48  3847.5   3509.1   4672.8   2076.48  1594.98  3593.52\n",
      "   874.98  2495.88 14063.4   3577.32  1138.32  6731.1   3738.42  3173.04\n",
      "  3714.66   709.56  6786.72  1323.    2573.1   8732.7  12852.   17874.\n",
      "   544.32  6759.   17179.2  13603.68  3592.44  2969.28  5880.96  8313.84\n",
      "  2584.8   7571.88  4544.64 12031.74  6982.56   957.96  5392.08  5051.16\n",
      "  8759.34  4345.92  4258.44  3327.84   251.64 12321.54  2143.8   3267.36\n",
      "  1467.18  2084.4   4538.7  17497.8    293.04  1557.72 16076.88  5970.96\n",
      "  1226.88  5883.84  1569.6    230.04  4978.8   2469.96  8382.6    646.02\n",
      "  3646.8   5324.4    407.16  9819.    4680.9    388.44  1779.12  9047.16\n",
      "  6053.04  9499.68  5904.    6656.4    413.28  2181.6   2275.92  9745.92\n",
      "   574.2   2498.4   1722.6   7357.14   926.46  3545.1   6472.8   8982.36\n",
      "  2263.32  2642.22  2100.42  9447.84  1365.84  2027.16  2398.68 17733.6\n",
      " 16056.    8879.4   9321.48  2287.44  1469.88  3347.28 10729.8   5025.24\n",
      "  3054.24  7558.92  3316.5   1169.82 13960.8   6538.14  3584.88 16033.14\n",
      "  1456.74  7911.9   4693.68   831.6  12751.2  10442.88  1084.5   7582.68\n",
      "   557.64  4453.2   1794.42  2159.64 15678.    3556.8   5152.68  4844.16\n",
      " 10611.    5326.56  2623.68 11370.78  6935.04  9245.88  8521.2  17550.\n",
      "  8699.04  1241.64  2249.28  5438.16 12576.06  2243.7  14682.06  4633.02\n",
      "  4104.    3000.78  7002.72 14751.   10231.2  10576.8   7006.86  1526.94\n",
      "  4560.48   691.56   947.7  10234.98  4582.98  4107.24 10819.62  8566.74\n",
      "   943.56  2363.4   8229.06  2272.5   3139.2   6337.44   914.4  10352.16\n",
      "   989.1   3265.38  4935.6   1095.66  7802.1   4348.8   8491.14 11192.4\n",
      "  5847.3   5725.44   183.06 11691.   10056.6   3155.76   535.32   402.84\n",
      " 11806.56  6701.94  1552.86  1825.74  2261.52  1312.74  1017.    9397.44\n",
      "   942.3   1465.92  1755.36  7529.4   8324.1   7653.24  5105.16 10785.6\n",
      "  7264.08  2099.52  5643.36 15229.8   4041.36  3832.92   771.3   5797.98\n",
      "   458.28 10475.64  3803.76  3000.6   4628.88  9940.14  6187.32 16170.84\n",
      "  3033.    3222.9   1514.88  8179.38  2844.    1655.64  5228.28  3100.68\n",
      "  4290.48 12594.96 12142.62 14821.2   1097.1    726.3 ]\n",
      "\n",
      "\n",
      "Rating:\n",
      "[ 5.9  4.5  6.8  4.4  5.1  6.7  9.6  4.8  7.7  7.9  5.6  9.5  8.4  4.1\n",
      "  8.1  6.5 10.   7.6  9.9  4.   6.4  6.1  8.6  7.4  8.   4.6  5.3  5.2\n",
      "  4.2  7.3  7.2  7.5  8.8  8.2  6.2  9.7  6.   9.4  9.8  8.7  7.   5.7\n",
      "  6.6  5.4  4.9  8.5  4.3  8.3  9.   6.3  4.7  5.5  8.9  7.8  5.8  6.9\n",
      "  7.1  5.   9.2  9.1  9.3]\n",
      "\n",
      "\n",
      "day:\n",
      "[20]\n",
      "\n",
      "\n",
      "month:\n",
      "[2]\n",
      "\n",
      "\n",
      "year:\n",
      "[2019]\n",
      "\n",
      "\n",
      "hour:\n",
      "[13]\n",
      "\n",
      "\n"
     ]
    }
   ],
   "source": [
    "#There are about 17 columns, so running each of them with the method above will take time. \n",
    "#Hence fort using a for Loop will help to get faster and combined results.\n",
    "#NB this output will display its answers as a Pd Series.\n",
    "\n",
    "\n",
    "for col in  Com:\n",
    "    print (\"{}:\".format(col))\n",
    "    print(Com[col].unique())\n",
    "    print ('\\n')"
   ]
  },
  {
   "cell_type": "markdown",
   "id": "952d5e2a",
   "metadata": {},
   "source": [
    "## Generated the count figure of the categorical values using the value_counts() method."
   ]
  },
  {
   "cell_type": "code",
   "execution_count": 38,
   "id": "edcc0e5b",
   "metadata": {},
   "outputs": [
    {
     "data": {
      "text/plain": [
       "Epay    345\n",
       "Cash    344\n",
       "Card    311\n",
       "Name: Payment, dtype: int64"
      ]
     },
     "execution_count": 38,
     "metadata": {},
     "output_type": "execute_result"
    }
   ],
   "source": [
    "Com['Payment'].value_counts()"
   ]
  },
  {
   "cell_type": "code",
   "execution_count": 39,
   "id": "546bc89d",
   "metadata": {},
   "outputs": [
    {
     "name": "stdout",
     "output_type": "stream",
     "text": [
      "Invoice ID:\n",
      "1000\n",
      "\n",
      "\n",
      "Branch:\n",
      "3\n",
      "\n",
      "\n",
      "City:\n",
      "3\n",
      "\n",
      "\n",
      "Customer type:\n",
      "2\n",
      "\n",
      "\n",
      "Gender:\n",
      "2\n",
      "\n",
      "\n",
      "Product line:\n",
      "6\n",
      "\n",
      "\n",
      "Unit price:\n",
      "943\n",
      "\n",
      "\n",
      "Quantity:\n",
      "10\n",
      "\n",
      "\n",
      "Tax 5%:\n",
      "990\n",
      "\n",
      "\n",
      "Total:\n",
      "990\n",
      "\n",
      "\n",
      "Date:\n",
      "1\n",
      "\n",
      "\n",
      "Time:\n",
      "1\n",
      "\n",
      "\n",
      "Payment:\n",
      "3\n",
      "\n",
      "\n",
      "cogs:\n",
      "990\n",
      "\n",
      "\n",
      "gross margin percentage:\n",
      "1\n",
      "\n",
      "\n",
      "gross income:\n",
      "990\n",
      "\n",
      "\n",
      "Rating:\n",
      "61\n",
      "\n",
      "\n",
      "day:\n",
      "1\n",
      "\n",
      "\n",
      "month:\n",
      "1\n",
      "\n",
      "\n",
      "year:\n",
      "1\n",
      "\n",
      "\n",
      "hour:\n",
      "1\n",
      "\n",
      "\n"
     ]
    }
   ],
   "source": [
    "for col in Com:\n",
    "        print (\"{}:\" .format((col)))\n",
    "        print (len(Com[col].unique().tolist()))\n",
    "        print('\\n')\n"
   ]
  },
  {
   "cell_type": "markdown",
   "id": "72c882d6",
   "metadata": {},
   "source": [
    "# Step 5 - Aggregation with GroupBy\n",
    "A groupby object with the \"City Column\", and aggregation function of sum and mean.\n",
    "\n",
    "\n"
   ]
  },
  {
   "cell_type": "code",
   "execution_count": 40,
   "id": "93f64242",
   "metadata": {},
   "outputs": [],
   "source": [
    "Citi_gby = Com.groupby('City')"
   ]
  },
  {
   "cell_type": "code",
   "execution_count": 41,
   "id": "ccba7ee9",
   "metadata": {},
   "outputs": [
    {
     "data": {
      "text/plain": [
       "<pandas.core.groupby.generic.DataFrameGroupBy object at 0x000000D2EF501BB0>"
      ]
     },
     "execution_count": 41,
     "metadata": {},
     "output_type": "execute_result"
    }
   ],
   "source": [
    "Citi_gby"
   ]
  },
  {
   "cell_type": "code",
   "execution_count": 42,
   "id": "6f8651b8",
   "metadata": {},
   "outputs": [
    {
     "data": {
      "text/html": [
       "<div>\n",
       "<style scoped>\n",
       "    .dataframe tbody tr th:only-of-type {\n",
       "        vertical-align: middle;\n",
       "    }\n",
       "\n",
       "    .dataframe tbody tr th {\n",
       "        vertical-align: top;\n",
       "    }\n",
       "\n",
       "    .dataframe thead tr th {\n",
       "        text-align: left;\n",
       "    }\n",
       "\n",
       "    .dataframe thead tr:last-of-type th {\n",
       "        text-align: right;\n",
       "    }\n",
       "</style>\n",
       "<table border=\"1\" class=\"dataframe\">\n",
       "  <thead>\n",
       "    <tr>\n",
       "      <th></th>\n",
       "      <th colspan=\"2\" halign=\"left\">Unit price</th>\n",
       "      <th colspan=\"2\" halign=\"left\">Quantity</th>\n",
       "      <th colspan=\"2\" halign=\"left\">Tax 5%</th>\n",
       "      <th colspan=\"2\" halign=\"left\">Total</th>\n",
       "      <th colspan=\"2\" halign=\"left\">cogs</th>\n",
       "      <th>...</th>\n",
       "      <th colspan=\"2\" halign=\"left\">Rating</th>\n",
       "      <th colspan=\"2\" halign=\"left\">day</th>\n",
       "      <th colspan=\"2\" halign=\"left\">month</th>\n",
       "      <th colspan=\"2\" halign=\"left\">year</th>\n",
       "      <th colspan=\"2\" halign=\"left\">hour</th>\n",
       "    </tr>\n",
       "    <tr>\n",
       "      <th></th>\n",
       "      <th>sum</th>\n",
       "      <th>mean</th>\n",
       "      <th>sum</th>\n",
       "      <th>mean</th>\n",
       "      <th>sum</th>\n",
       "      <th>mean</th>\n",
       "      <th>sum</th>\n",
       "      <th>mean</th>\n",
       "      <th>sum</th>\n",
       "      <th>mean</th>\n",
       "      <th>...</th>\n",
       "      <th>sum</th>\n",
       "      <th>mean</th>\n",
       "      <th>sum</th>\n",
       "      <th>mean</th>\n",
       "      <th>sum</th>\n",
       "      <th>mean</th>\n",
       "      <th>sum</th>\n",
       "      <th>mean</th>\n",
       "      <th>sum</th>\n",
       "      <th>mean</th>\n",
       "    </tr>\n",
       "    <tr>\n",
       "      <th>City</th>\n",
       "      <th></th>\n",
       "      <th></th>\n",
       "      <th></th>\n",
       "      <th></th>\n",
       "      <th></th>\n",
       "      <th></th>\n",
       "      <th></th>\n",
       "      <th></th>\n",
       "      <th></th>\n",
       "      <th></th>\n",
       "      <th></th>\n",
       "      <th></th>\n",
       "      <th></th>\n",
       "      <th></th>\n",
       "      <th></th>\n",
       "      <th></th>\n",
       "      <th></th>\n",
       "      <th></th>\n",
       "      <th></th>\n",
       "      <th></th>\n",
       "      <th></th>\n",
       "    </tr>\n",
       "  </thead>\n",
       "  <tbody>\n",
       "    <tr>\n",
       "      <th>Abuja</th>\n",
       "      <td>6652396.8</td>\n",
       "      <td>20037.339759</td>\n",
       "      <td>1820</td>\n",
       "      <td>5.481928</td>\n",
       "      <td>1820531.52</td>\n",
       "      <td>5483.528675</td>\n",
       "      <td>38231161.92</td>\n",
       "      <td>115154.102169</td>\n",
       "      <td>36410630.4</td>\n",
       "      <td>109670.573494</td>\n",
       "      <td>...</td>\n",
       "      <td>2263.6</td>\n",
       "      <td>6.818072</td>\n",
       "      <td>6640</td>\n",
       "      <td>20.0</td>\n",
       "      <td>664</td>\n",
       "      <td>2.0</td>\n",
       "      <td>670308</td>\n",
       "      <td>2019.0</td>\n",
       "      <td>4316</td>\n",
       "      <td>13.0</td>\n",
       "    </tr>\n",
       "    <tr>\n",
       "      <th>Lagos</th>\n",
       "      <td>6705176.4</td>\n",
       "      <td>19721.107059</td>\n",
       "      <td>1859</td>\n",
       "      <td>5.467647</td>\n",
       "      <td>1820577.78</td>\n",
       "      <td>5354.640529</td>\n",
       "      <td>38232133.38</td>\n",
       "      <td>112447.451118</td>\n",
       "      <td>36411555.6</td>\n",
       "      <td>107092.810588</td>\n",
       "      <td>...</td>\n",
       "      <td>2389.2</td>\n",
       "      <td>7.027059</td>\n",
       "      <td>6800</td>\n",
       "      <td>20.0</td>\n",
       "      <td>680</td>\n",
       "      <td>2.0</td>\n",
       "      <td>686460</td>\n",
       "      <td>2019.0</td>\n",
       "      <td>4420</td>\n",
       "      <td>13.0</td>\n",
       "    </tr>\n",
       "    <tr>\n",
       "      <th>Port Harcourt</th>\n",
       "      <td>6684393.6</td>\n",
       "      <td>20379.248780</td>\n",
       "      <td>1831</td>\n",
       "      <td>5.582317</td>\n",
       "      <td>1895463.54</td>\n",
       "      <td>5778.852256</td>\n",
       "      <td>39804734.34</td>\n",
       "      <td>121355.897378</td>\n",
       "      <td>37909270.8</td>\n",
       "      <td>115577.045122</td>\n",
       "      <td>...</td>\n",
       "      <td>2319.9</td>\n",
       "      <td>7.072866</td>\n",
       "      <td>6560</td>\n",
       "      <td>20.0</td>\n",
       "      <td>656</td>\n",
       "      <td>2.0</td>\n",
       "      <td>662232</td>\n",
       "      <td>2019.0</td>\n",
       "      <td>4264</td>\n",
       "      <td>13.0</td>\n",
       "    </tr>\n",
       "  </tbody>\n",
       "</table>\n",
       "<p>3 rows × 24 columns</p>\n",
       "</div>"
      ],
      "text/plain": [
       "              Unit price               Quantity                Tax 5%  \\\n",
       "                     sum          mean      sum      mean         sum   \n",
       "City                                                                    \n",
       "Abuja          6652396.8  20037.339759     1820  5.481928  1820531.52   \n",
       "Lagos          6705176.4  19721.107059     1859  5.467647  1820577.78   \n",
       "Port Harcourt  6684393.6  20379.248780     1831  5.582317  1895463.54   \n",
       "\n",
       "                                  Total                       cogs  \\\n",
       "                      mean          sum           mean         sum   \n",
       "City                                                                 \n",
       "Abuja          5483.528675  38231161.92  115154.102169  36410630.4   \n",
       "Lagos          5354.640529  38232133.38  112447.451118  36411555.6   \n",
       "Port Harcourt  5778.852256  39804734.34  121355.897378  37909270.8   \n",
       "\n",
       "                              ...  Rating             day       month       \\\n",
       "                        mean  ...     sum      mean   sum  mean   sum mean   \n",
       "City                          ...                                            \n",
       "Abuja          109670.573494  ...  2263.6  6.818072  6640  20.0   664  2.0   \n",
       "Lagos          107092.810588  ...  2389.2  7.027059  6800  20.0   680  2.0   \n",
       "Port Harcourt  115577.045122  ...  2319.9  7.072866  6560  20.0   656  2.0   \n",
       "\n",
       "                 year          hour        \n",
       "                  sum    mean   sum  mean  \n",
       "City                                       \n",
       "Abuja          670308  2019.0  4316  13.0  \n",
       "Lagos          686460  2019.0  4420  13.0  \n",
       "Port Harcourt  662232  2019.0  4264  13.0  \n",
       "\n",
       "[3 rows x 24 columns]"
      ]
     },
     "execution_count": 42,
     "metadata": {},
     "output_type": "execute_result"
    }
   ],
   "source": [
    "Citi_gby.agg([\"sum\", \"mean\"])"
   ]
  },
  {
   "cell_type": "markdown",
   "id": "6975c7fa",
   "metadata": {},
   "source": [
    "## A table that shows the gross income of each city, and determines the city with the highest total gross income.\n"
   ]
  },
  {
   "cell_type": "code",
   "execution_count": 43,
   "id": "4677dcad",
   "metadata": {},
   "outputs": [],
   "source": [
    "g_inc = Citi_gby['gross income'].sum().reset_index()\n"
   ]
  },
  {
   "cell_type": "code",
   "execution_count": 44,
   "id": "efa88947",
   "metadata": {},
   "outputs": [
    {
     "data": {
      "text/html": [
       "<div>\n",
       "<style scoped>\n",
       "    .dataframe tbody tr th:only-of-type {\n",
       "        vertical-align: middle;\n",
       "    }\n",
       "\n",
       "    .dataframe tbody tr th {\n",
       "        vertical-align: top;\n",
       "    }\n",
       "\n",
       "    .dataframe thead th {\n",
       "        text-align: right;\n",
       "    }\n",
       "</style>\n",
       "<table border=\"1\" class=\"dataframe\">\n",
       "  <thead>\n",
       "    <tr style=\"text-align: right;\">\n",
       "      <th></th>\n",
       "      <th>City</th>\n",
       "      <th>gross income</th>\n",
       "    </tr>\n",
       "  </thead>\n",
       "  <tbody>\n",
       "    <tr>\n",
       "      <th>0</th>\n",
       "      <td>Abuja</td>\n",
       "      <td>1820531.52</td>\n",
       "    </tr>\n",
       "    <tr>\n",
       "      <th>1</th>\n",
       "      <td>Lagos</td>\n",
       "      <td>1820577.78</td>\n",
       "    </tr>\n",
       "    <tr>\n",
       "      <th>2</th>\n",
       "      <td>Port Harcourt</td>\n",
       "      <td>1895463.54</td>\n",
       "    </tr>\n",
       "  </tbody>\n",
       "</table>\n",
       "</div>"
      ],
      "text/plain": [
       "            City  gross income\n",
       "0          Abuja    1820531.52\n",
       "1          Lagos    1820577.78\n",
       "2  Port Harcourt    1895463.54"
      ]
     },
     "execution_count": 44,
     "metadata": {},
     "output_type": "execute_result"
    }
   ],
   "source": [
    "g_inc"
   ]
  },
  {
   "cell_type": "code",
   "execution_count": 45,
   "id": "a082f168",
   "metadata": {},
   "outputs": [
    {
     "data": {
      "text/html": [
       "<div>\n",
       "<style scoped>\n",
       "    .dataframe tbody tr th:only-of-type {\n",
       "        vertical-align: middle;\n",
       "    }\n",
       "\n",
       "    .dataframe tbody tr th {\n",
       "        vertical-align: top;\n",
       "    }\n",
       "\n",
       "    .dataframe thead th {\n",
       "        text-align: right;\n",
       "    }\n",
       "</style>\n",
       "<table border=\"1\" class=\"dataframe\">\n",
       "  <thead>\n",
       "    <tr style=\"text-align: right;\">\n",
       "      <th></th>\n",
       "      <th>index</th>\n",
       "      <th>0</th>\n",
       "    </tr>\n",
       "  </thead>\n",
       "  <tbody>\n",
       "    <tr>\n",
       "      <th>0</th>\n",
       "      <td>City</td>\n",
       "      <td>Port Harcourt</td>\n",
       "    </tr>\n",
       "    <tr>\n",
       "      <th>1</th>\n",
       "      <td>gross income</td>\n",
       "      <td>1895463.54</td>\n",
       "    </tr>\n",
       "  </tbody>\n",
       "</table>\n",
       "</div>"
      ],
      "text/plain": [
       "          index              0\n",
       "0          City  Port Harcourt\n",
       "1  gross income     1895463.54"
      ]
     },
     "execution_count": 45,
     "metadata": {},
     "output_type": "execute_result"
    }
   ],
   "source": [
    "#Getting the city with the highest gross income \n",
    "g_inc.max().reset_index()"
   ]
  },
  {
   "cell_type": "markdown",
   "id": "c0cea97a",
   "metadata": {},
   "source": [
    "## Optional - Use of appropriate methods & descriptions to explore other columns such as Unit Price, Quantity."
   ]
  },
  {
   "cell_type": "code",
   "execution_count": 46,
   "id": "8a89ed93",
   "metadata": {},
   "outputs": [],
   "source": [
    "Optional = Citi_gby[[\"Unit price\", \"Quantity\"]].sum()\n"
   ]
  },
  {
   "cell_type": "code",
   "execution_count": 47,
   "id": "b6143c89",
   "metadata": {},
   "outputs": [
    {
     "data": {
      "text/html": [
       "<div>\n",
       "<style scoped>\n",
       "    .dataframe tbody tr th:only-of-type {\n",
       "        vertical-align: middle;\n",
       "    }\n",
       "\n",
       "    .dataframe tbody tr th {\n",
       "        vertical-align: top;\n",
       "    }\n",
       "\n",
       "    .dataframe thead th {\n",
       "        text-align: right;\n",
       "    }\n",
       "</style>\n",
       "<table border=\"1\" class=\"dataframe\">\n",
       "  <thead>\n",
       "    <tr style=\"text-align: right;\">\n",
       "      <th></th>\n",
       "      <th>Unit price</th>\n",
       "      <th>Quantity</th>\n",
       "    </tr>\n",
       "    <tr>\n",
       "      <th>City</th>\n",
       "      <th></th>\n",
       "      <th></th>\n",
       "    </tr>\n",
       "  </thead>\n",
       "  <tbody>\n",
       "    <tr>\n",
       "      <th>Abuja</th>\n",
       "      <td>6652396.8</td>\n",
       "      <td>1820</td>\n",
       "    </tr>\n",
       "    <tr>\n",
       "      <th>Lagos</th>\n",
       "      <td>6705176.4</td>\n",
       "      <td>1859</td>\n",
       "    </tr>\n",
       "    <tr>\n",
       "      <th>Port Harcourt</th>\n",
       "      <td>6684393.6</td>\n",
       "      <td>1831</td>\n",
       "    </tr>\n",
       "  </tbody>\n",
       "</table>\n",
       "</div>"
      ],
      "text/plain": [
       "               Unit price  Quantity\n",
       "City                               \n",
       "Abuja           6652396.8      1820\n",
       "Lagos           6705176.4      1859\n",
       "Port Harcourt   6684393.6      1831"
      ]
     },
     "execution_count": 47,
     "metadata": {},
     "output_type": "execute_result"
    }
   ],
   "source": [
    "Optional"
   ]
  },
  {
   "cell_type": "markdown",
   "id": "0728d1eb",
   "metadata": {},
   "source": [
    "# Step 6 - Data Visualization\n",
    "Appropriate use of countplot to determine the branch with the highest sales record.\n"
   ]
  },
  {
   "cell_type": "code",
   "execution_count": 45,
   "id": "7efadbf4",
   "metadata": {},
   "outputs": [],
   "source": [
    "import seaborn as sns\n",
    "import matplotlib.pyplot as plt"
   ]
  },
  {
   "cell_type": "code",
   "execution_count": 79,
   "id": "b1ce3c19",
   "metadata": {},
   "outputs": [
    {
     "data": {
      "image/png": "[encoded data removed]",
      "text/plain": [
       "<Figure size 432x288 with 1 Axes>"
      ]
     },
     "metadata": {
      "needs_background": "light"
     },
     "output_type": "display_data"
    }
   ],
   "source": [
    "sns.countplot(x='Branch',data=Com,  palette=\"Set1\", saturation =1).set_title('Highest Sales Record');"
   ]
  },
  {
   "cell_type": "markdown",
   "id": "0e1afec2",
   "metadata": {},
   "source": [
    "## Optional - Appropriate use of countplot to determine the most used payment method & city with the most sales.\n",
    " "
   ]
  },
  {
   "cell_type": "code",
   "execution_count": 70,
   "id": "5eda92aa",
   "metadata": {},
   "outputs": [
    {
     "data": {
      "text/plain": [
       "Text(0.5, 1.0, 'Most Used Payment Method')"
      ]
     },
     "execution_count": 70,
     "metadata": {},
     "output_type": "execute_result"
    },
    {
     "data": {
      "image/png": "[encoded data removed]",
      "text/plain": [
       "<Figure size 432x288 with 1 Axes>"
      ]
     },
     "metadata": {
      "needs_background": "light"
     },
     "output_type": "display_data"
    }
   ],
   "source": [
    "sns.countplot(x='Payment', data=Com, facecolor=(0, 0, 0, 0), linewidth=8, edgecolor=sns.color_palette(\"dark\", 3)).set_title('Most Used Payment Method')"
   ]
  },
  {
   "cell_type": "code",
   "execution_count": 85,
   "id": "72bf7830",
   "metadata": {},
   "outputs": [
    {
     "data": {
      "text/plain": [
       "Text(0.5, 1.0, 'City With the Most Sales')"
      ]
     },
     "execution_count": 85,
     "metadata": {},
     "output_type": "execute_result"
    },
    {
     "data": {
      "image/png": "[encoded data removed]",
      "text/plain": [
       "<Figure size 432x288 with 1 Axes>"
      ]
     },
     "metadata": {
      "needs_background": "light"
     },
     "output_type": "display_data"
    }
   ],
   "source": [
    "sns.countplot(x='City', data=Com, saturation =1).set_title('City With the Most Sales')"
   ]
  },
  {
   "cell_type": "markdown",
   "id": "1736072e",
   "metadata": {},
   "source": [
    "## Appropriate use of countplot to determine the highest & lowest sold product line.\n"
   ]
  },
  {
   "cell_type": "code",
   "execution_count": 86,
   "id": "9cc7b51a",
   "metadata": {},
   "outputs": [
    {
     "data": {
      "text/plain": [
       "Text(0.5, 1.0, 'Highest and Lowest Sold Product Line')"
      ]
     },
     "execution_count": 86,
     "metadata": {},
     "output_type": "execute_result"
    },
    {
     "data": {
      "image/png": "[encoded data removed]",
      "text/plain": [
       "<Figure size 432x288 with 1 Axes>"
      ]
     },
     "metadata": {
      "needs_background": "light"
     },
     "output_type": "display_data"
    }
   ],
   "source": [
    "sns.countplot(y='Product line', data=Com,  palette=\"Set2\", saturation =1).set_title('Highest and Lowest Sold Product Line')"
   ]
  },
  {
   "cell_type": "markdown",
   "id": "d15b4439",
   "metadata": {},
   "source": [
    "### Result that shows the Payment channel used by most customers to pay for each product line. Chart should also show the \"product line\" column on the Y-axis, and the \"hue\" parameter for the \"Payment\" column."
   ]
  },
  {
   "cell_type": "code",
   "execution_count": 87,
   "id": "14a91a6d",
   "metadata": {},
   "outputs": [
    {
     "data": {
      "text/plain": [
       "Text(0.5, 1.0, 'Payment channel used by most customers for each Product')"
      ]
     },
     "execution_count": 87,
     "metadata": {},
     "output_type": "execute_result"
    },
    {
     "data": {
      "image/png": "[encoded data removed]",
      "text/plain": [
       "<Figure size 432x288 with 1 Axes>"
      ]
     },
     "metadata": {
      "needs_background": "light"
     },
     "output_type": "display_data"
    }
   ],
   "source": [
    "## Determine the Payment channel used by most customer to pay for each product line\n",
    "sns.countplot(y='Product line',hue='Payment', data=Com, palette=\"Set1\", saturation =1).set_title('Payment channel used by most customers for each Product') "
   ]
  },
  {
   "cell_type": "code",
   "execution_count": null,
   "id": "fb804e21",
   "metadata": {},
   "outputs": [],
   "source": []
  }
 ],
 "metadata": {
  "kernelspec": {
   "display_name": "Python 3 (ipykernel)",
   "language": "python",
   "name": "python3"
  },
  "language_info": {
   "codemirror_mode": {
    "name": "ipython",
    "version": 3
   },
   "file_extension": ".py",
   "mimetype": "text/x-python",
   "name": "python",
   "nbconvert_exporter": "python",
   "pygments_lexer": "ipython3",
   "version": "3.9.7"
  }
 },
 "nbformat": 4,
 "nbformat_minor": 5
}
